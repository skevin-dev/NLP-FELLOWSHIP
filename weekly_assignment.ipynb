{
  "nbformat": 4,
  "nbformat_minor": 0,
  "metadata": {
    "colab": {
      "provenance": [],
      "authorship_tag": "ABX9TyPUZ/iPdNScIKG4pu+cCmxx",
      "include_colab_link": true
    },
    "kernelspec": {
      "name": "python3",
      "display_name": "Python 3"
    },
    "language_info": {
      "name": "python"
    }
  },
  "cells": [
    {
      "cell_type": "markdown",
      "metadata": {
        "id": "view-in-github",
        "colab_type": "text"
      },
      "source": [
        "<a href=\"https://colab.research.google.com/github/skevin-dev/NLP-FELLOWSHIP/blob/week1/weekly_assignment.ipynb\" target=\"_parent\"><img src=\"https://colab.research.google.com/assets/colab-badge.svg\" alt=\"Open In Colab\"/></a>"
      ]
    },
    {
      "cell_type": "code",
      "execution_count": 2,
      "metadata": {
        "colab": {
          "base_uri": "https://localhost:8080/"
        },
        "id": "TI1vO5nHapGV",
        "outputId": "9a12f2c1-9187-4842-9fd0-4e7453248f95"
      },
      "outputs": [
        {
          "output_type": "stream",
          "name": "stdout",
          "text": [
            "Mounted at /content/gdrive\n"
          ]
        }
      ],
      "source": [
        "from google.colab import drive\n",
        "drive.mount('/content/gdrive')"
      ]
    },
    {
      "cell_type": "code",
      "source": [
        "import pandas as pd \n",
        "import re \n",
        "import os\n",
        "import warnings \n",
        "warnings.filterwarnings('ignore')"
      ],
      "metadata": {
        "id": "yIBGEa2jbCwg"
      },
      "execution_count": 18,
      "outputs": []
    },
    {
      "cell_type": "code",
      "source": [
        "path = '/content/gdrive/MyDrive/NLP Fellowship /week1 /'\n",
        "os.chdir(path)\n",
        "!ls"
      ],
      "metadata": {
        "colab": {
          "base_uri": "https://localhost:8080/"
        },
        "id": "bqYGcS4gbEOq",
        "outputId": "6ca9462c-837c-41fe-f239-b2dbb6acfd6e"
      },
      "execution_count": 19,
      "outputs": [
        {
          "output_type": "stream",
          "name": "stdout",
          "text": [
            "'Assignment_1 (1).ipynb'\t JSON_Day1.ipynb\n",
            " Assignment_1.ipynb\t\t'Parsing_IGihe_Raw (1).ipynb'\n",
            " data\t\t\t\t'weekly assignment.ipynb'\n",
            "'Eng_Kin-Paralleldata (1).csv'\t'Word_and_PDF_Day3 (1).ipynb'\n",
            "'HTML (1).ipynb'\t\t Word_and_PDF_Day3.ipynb\n"
          ]
        }
      ]
    },
    {
      "cell_type": "code",
      "source": [
        "df = pd.read_csv('Eng_Kin-Paralleldata (1).csv')"
      ],
      "metadata": {
        "id": "ughmkRhPbTaW"
      },
      "execution_count": 20,
      "outputs": []
    },
    {
      "cell_type": "code",
      "source": [
        "df.head()"
      ],
      "metadata": {
        "colab": {
          "base_uri": "https://localhost:8080/",
          "height": 206
        },
        "id": "XNfRdf8VbZPQ",
        "outputId": "d272a2b2-cca4-432a-be93-09e129e3a01a"
      },
      "execution_count": 21,
      "outputs": [
        {
          "output_type": "execute_result",
          "data": {
            "text/plain": [
              "            ID                                            English  \\\n",
              "0  ID_IFVTMXW8        F_all back to threading messages by subject   \n",
              "1  ID_SBXUPXE3  You will have to restart GIMP for the followin...   \n",
              "2  ID_ZOCZ3PXQ  The radio button whose group this widget belon...   \n",
              "3  ID_6AVBJ1YS           Print all subdirectories in a directory.   \n",
              "4  ID_FW4V44WK  Paste the contents of the clipboard as a new i...   \n",
              "\n",
              "                                         Kinyarwanda  \n",
              "0                 Inyuma Kuri Ubutumwa ku Ikivugwaho  \n",
              "1  Kuri Ongera utangire kugirango i Amahinduka Ku...  \n",
              "2                       Akabuto bya Itsinda iyi Kuri  \n",
              "3          Byose Ububiko bwungirije in a bushyinguro  \n",
              "4  i Ibigize Bya i Ububikokoporora Nka A Gishya I...  "
            ],
            "text/html": [
              "\n",
              "  <div id=\"df-7f8c52af-f408-48ed-94d6-c53edb486262\">\n",
              "    <div class=\"colab-df-container\">\n",
              "      <div>\n",
              "<style scoped>\n",
              "    .dataframe tbody tr th:only-of-type {\n",
              "        vertical-align: middle;\n",
              "    }\n",
              "\n",
              "    .dataframe tbody tr th {\n",
              "        vertical-align: top;\n",
              "    }\n",
              "\n",
              "    .dataframe thead th {\n",
              "        text-align: right;\n",
              "    }\n",
              "</style>\n",
              "<table border=\"1\" class=\"dataframe\">\n",
              "  <thead>\n",
              "    <tr style=\"text-align: right;\">\n",
              "      <th></th>\n",
              "      <th>ID</th>\n",
              "      <th>English</th>\n",
              "      <th>Kinyarwanda</th>\n",
              "    </tr>\n",
              "  </thead>\n",
              "  <tbody>\n",
              "    <tr>\n",
              "      <th>0</th>\n",
              "      <td>ID_IFVTMXW8</td>\n",
              "      <td>F_all back to threading messages by subject</td>\n",
              "      <td>Inyuma Kuri Ubutumwa ku Ikivugwaho</td>\n",
              "    </tr>\n",
              "    <tr>\n",
              "      <th>1</th>\n",
              "      <td>ID_SBXUPXE3</td>\n",
              "      <td>You will have to restart GIMP for the followin...</td>\n",
              "      <td>Kuri Ongera utangire kugirango i Amahinduka Ku...</td>\n",
              "    </tr>\n",
              "    <tr>\n",
              "      <th>2</th>\n",
              "      <td>ID_ZOCZ3PXQ</td>\n",
              "      <td>The radio button whose group this widget belon...</td>\n",
              "      <td>Akabuto bya Itsinda iyi Kuri</td>\n",
              "    </tr>\n",
              "    <tr>\n",
              "      <th>3</th>\n",
              "      <td>ID_6AVBJ1YS</td>\n",
              "      <td>Print all subdirectories in a directory.</td>\n",
              "      <td>Byose Ububiko bwungirije in a bushyinguro</td>\n",
              "    </tr>\n",
              "    <tr>\n",
              "      <th>4</th>\n",
              "      <td>ID_FW4V44WK</td>\n",
              "      <td>Paste the contents of the clipboard as a new i...</td>\n",
              "      <td>i Ibigize Bya i Ububikokoporora Nka A Gishya I...</td>\n",
              "    </tr>\n",
              "  </tbody>\n",
              "</table>\n",
              "</div>\n",
              "      <button class=\"colab-df-convert\" onclick=\"convertToInteractive('df-7f8c52af-f408-48ed-94d6-c53edb486262')\"\n",
              "              title=\"Convert this dataframe to an interactive table.\"\n",
              "              style=\"display:none;\">\n",
              "        \n",
              "  <svg xmlns=\"http://www.w3.org/2000/svg\" height=\"24px\"viewBox=\"0 0 24 24\"\n",
              "       width=\"24px\">\n",
              "    <path d=\"M0 0h24v24H0V0z\" fill=\"none\"/>\n",
              "    <path d=\"M18.56 5.44l.94 2.06.94-2.06 2.06-.94-2.06-.94-.94-2.06-.94 2.06-2.06.94zm-11 1L8.5 8.5l.94-2.06 2.06-.94-2.06-.94L8.5 2.5l-.94 2.06-2.06.94zm10 10l.94 2.06.94-2.06 2.06-.94-2.06-.94-.94-2.06-.94 2.06-2.06.94z\"/><path d=\"M17.41 7.96l-1.37-1.37c-.4-.4-.92-.59-1.43-.59-.52 0-1.04.2-1.43.59L10.3 9.45l-7.72 7.72c-.78.78-.78 2.05 0 2.83L4 21.41c.39.39.9.59 1.41.59.51 0 1.02-.2 1.41-.59l7.78-7.78 2.81-2.81c.8-.78.8-2.07 0-2.86zM5.41 20L4 18.59l7.72-7.72 1.47 1.35L5.41 20z\"/>\n",
              "  </svg>\n",
              "      </button>\n",
              "      \n",
              "  <style>\n",
              "    .colab-df-container {\n",
              "      display:flex;\n",
              "      flex-wrap:wrap;\n",
              "      gap: 12px;\n",
              "    }\n",
              "\n",
              "    .colab-df-convert {\n",
              "      background-color: #E8F0FE;\n",
              "      border: none;\n",
              "      border-radius: 50%;\n",
              "      cursor: pointer;\n",
              "      display: none;\n",
              "      fill: #1967D2;\n",
              "      height: 32px;\n",
              "      padding: 0 0 0 0;\n",
              "      width: 32px;\n",
              "    }\n",
              "\n",
              "    .colab-df-convert:hover {\n",
              "      background-color: #E2EBFA;\n",
              "      box-shadow: 0px 1px 2px rgba(60, 64, 67, 0.3), 0px 1px 3px 1px rgba(60, 64, 67, 0.15);\n",
              "      fill: #174EA6;\n",
              "    }\n",
              "\n",
              "    [theme=dark] .colab-df-convert {\n",
              "      background-color: #3B4455;\n",
              "      fill: #D2E3FC;\n",
              "    }\n",
              "\n",
              "    [theme=dark] .colab-df-convert:hover {\n",
              "      background-color: #434B5C;\n",
              "      box-shadow: 0px 1px 3px 1px rgba(0, 0, 0, 0.15);\n",
              "      filter: drop-shadow(0px 1px 2px rgba(0, 0, 0, 0.3));\n",
              "      fill: #FFFFFF;\n",
              "    }\n",
              "  </style>\n",
              "\n",
              "      <script>\n",
              "        const buttonEl =\n",
              "          document.querySelector('#df-7f8c52af-f408-48ed-94d6-c53edb486262 button.colab-df-convert');\n",
              "        buttonEl.style.display =\n",
              "          google.colab.kernel.accessAllowed ? 'block' : 'none';\n",
              "\n",
              "        async function convertToInteractive(key) {\n",
              "          const element = document.querySelector('#df-7f8c52af-f408-48ed-94d6-c53edb486262');\n",
              "          const dataTable =\n",
              "            await google.colab.kernel.invokeFunction('convertToInteractive',\n",
              "                                                     [key], {});\n",
              "          if (!dataTable) return;\n",
              "\n",
              "          const docLinkHtml = 'Like what you see? Visit the ' +\n",
              "            '<a target=\"_blank\" href=https://colab.research.google.com/notebooks/data_table.ipynb>data table notebook</a>'\n",
              "            + ' to learn more about interactive tables.';\n",
              "          element.innerHTML = '';\n",
              "          dataTable['output_type'] = 'display_data';\n",
              "          await google.colab.output.renderOutput(dataTable, element);\n",
              "          const docLink = document.createElement('div');\n",
              "          docLink.innerHTML = docLinkHtml;\n",
              "          element.appendChild(docLink);\n",
              "        }\n",
              "      </script>\n",
              "    </div>\n",
              "  </div>\n",
              "  "
            ]
          },
          "metadata": {},
          "execution_count": 21
        }
      ]
    },
    {
      "cell_type": "markdown",
      "source": [
        "# Data Cleaning"
      ],
      "metadata": {
        "id": "J0DxZOtQbbWH"
      }
    },
    {
      "cell_type": "code",
      "source": [
        "# same case \n",
        "df['English'] = df['English'].str.lower()\n",
        "df['Kinyarwanda'] = df['Kinyarwanda'].str.lower()"
      ],
      "metadata": {
        "id": "Mc-u-qWkbd2H"
      },
      "execution_count": 22,
      "outputs": []
    },
    {
      "cell_type": "code",
      "source": [
        "# remove numbers\n",
        "\n",
        "df['English'] =  df['English'].str.replace(\"\\d+\",\"\")\n",
        "df['Kinyarwanda'] =  df['Kinyarwanda'].str.replace(\"\\d+\",\"\")"
      ],
      "metadata": {
        "id": "XFtCn69jbkb3"
      },
      "execution_count": 23,
      "outputs": []
    },
    {
      "cell_type": "code",
      "source": [
        "# find emails and urls\n",
        "all_email = []\n",
        "all_links = []\n",
        "regexE = r'\\b[A-Za-z0-9._%+-]+@[A-Za-z0-9.-]+\\.[A-Z|a-z]{2,}\\b|\\w+:\\/\\/w+\\.\\w+\\.\\w+|[\\w\\d\\S]+@\\w+\\.\\w+'\n",
        "regexL = r'http[s]?://(?:[a-zA-Z]|[0-9]|[$-_@.&+]|[!*\\(\\),]|(?:%[0-9a-fA-F][0-9a-fA-F]))+'\n",
        "def check(data):\n",
        "    new_word = data.split()\n",
        "    for n in new_word:\n",
        "        if(re.fullmatch(regexE, n)):\n",
        "            all_email.append(n)\n",
        "        elif(re.fullmatch(regexL, n)):\n",
        "            all_links.append(n)\n",
        "dataset = df.applymap(lambda s: check(s))\n",
        "all_email"
      ],
      "metadata": {
        "colab": {
          "base_uri": "https://localhost:8080/"
        },
        "id": "28doWjQ3boC2",
        "outputId": "4df2fbe3-cacb-4d1c-fd71-e6899beb2b55"
      },
      "execution_count": 24,
      "outputs": [
        {
          "output_type": "execute_result",
          "data": {
            "text/plain": [
              "['dia-list@gnome.org',\n",
              " 'http://www.wikipedia.org',\n",
              " 'seth@gnome.org',\n",
              " 'http://www.abisource.com',\n",
              " 'http://www.example.com',\n",
              " 'user@example.com',\n",
              " 'http://www.example.com']"
            ]
          },
          "metadata": {},
          "execution_count": 24
        }
      ]
    },
    {
      "cell_type": "code",
      "source": [
        "all_links"
      ],
      "metadata": {
        "colab": {
          "base_uri": "https://localhost:8080/"
        },
        "id": "JV1POXR-b2O7",
        "outputId": "846df330-d549-47a3-cce8-6e028a1d2c30"
      },
      "execution_count": 25,
      "outputs": [
        {
          "output_type": "execute_result",
          "data": {
            "text/plain": [
              "['http://autogen.sourceforge.net',\n",
              " 'http://projects.gnome.org/gconf/',\n",
              " 'http://autogen.sourceforge.net.',\n",
              " 'http://anjuta.org',\n",
              " 'http://anjuta.org.',\n",
              " 'http://projects.gnome.org/gconf/',\n",
              " 'http://www',\n",
              " 'http://www.xmlsoft.org/catalog.html',\n",
              " 'http://docbook.sourceforge.net/projects/xsl/,',\n",
              " 'http://www.xmlsoft.org/catalog.html']"
            ]
          },
          "metadata": {},
          "execution_count": 25
        }
      ]
    },
    {
      "cell_type": "code",
      "source": [
        "df[df.English.str.contains('|'.join(all_email))]"
      ],
      "metadata": {
        "colab": {
          "base_uri": "https://localhost:8080/",
          "height": 175
        },
        "id": "pnA5RKIicA3Z",
        "outputId": "140ff0f7-c347-4296-bb8c-584a65a54dae"
      },
      "execution_count": 26,
      "outputs": [
        {
          "output_type": "execute_result",
          "data": {
            "text/plain": [
              "                ID                                            English  \\\n",
              "930    ID_VWGJAYUF  your local character set is utf-. because of i...   \n",
              "2000   ID_CAFHPTYS  place each image in the order and on the date ...   \n",
              "16426  ID_VTSKGS4S  the bloggerapi server (%s) reported an error i...   \n",
              "19786  ID_VX3GGZNK  you do not have the abiword word processor ins...   \n",
              "\n",
              "                                             Kinyarwanda  \n",
              "930    inyuguti gushyiraho ni  bya na: na i gushigiki...  \n",
              "2000   ishusho in i itondekanya i itariki oya kugenzu...  \n",
              "16426  seriveri ikosa imeli iyi ikosa ubutumwa kuri o...  \n",
              "19786  oya i ku sisitemu gufungura iyi na kigenga biv...  "
            ],
            "text/html": [
              "\n",
              "  <div id=\"df-bbfeaca4-6640-4978-8d90-c685f0c8194b\">\n",
              "    <div class=\"colab-df-container\">\n",
              "      <div>\n",
              "<style scoped>\n",
              "    .dataframe tbody tr th:only-of-type {\n",
              "        vertical-align: middle;\n",
              "    }\n",
              "\n",
              "    .dataframe tbody tr th {\n",
              "        vertical-align: top;\n",
              "    }\n",
              "\n",
              "    .dataframe thead th {\n",
              "        text-align: right;\n",
              "    }\n",
              "</style>\n",
              "<table border=\"1\" class=\"dataframe\">\n",
              "  <thead>\n",
              "    <tr style=\"text-align: right;\">\n",
              "      <th></th>\n",
              "      <th>ID</th>\n",
              "      <th>English</th>\n",
              "      <th>Kinyarwanda</th>\n",
              "    </tr>\n",
              "  </thead>\n",
              "  <tbody>\n",
              "    <tr>\n",
              "      <th>930</th>\n",
              "      <td>ID_VWGJAYUF</td>\n",
              "      <td>your local character set is utf-. because of i...</td>\n",
              "      <td>inyuguti gushyiraho ni  bya na: na i gushigiki...</td>\n",
              "    </tr>\n",
              "    <tr>\n",
              "      <th>2000</th>\n",
              "      <td>ID_CAFHPTYS</td>\n",
              "      <td>place each image in the order and on the date ...</td>\n",
              "      <td>ishusho in i itondekanya i itariki oya kugenzu...</td>\n",
              "    </tr>\n",
              "    <tr>\n",
              "      <th>16426</th>\n",
              "      <td>ID_VTSKGS4S</td>\n",
              "      <td>the bloggerapi server (%s) reported an error i...</td>\n",
              "      <td>seriveri ikosa imeli iyi ikosa ubutumwa kuri o...</td>\n",
              "    </tr>\n",
              "    <tr>\n",
              "      <th>19786</th>\n",
              "      <td>ID_VX3GGZNK</td>\n",
              "      <td>you do not have the abiword word processor ins...</td>\n",
              "      <td>oya i ku sisitemu gufungura iyi na kigenga biv...</td>\n",
              "    </tr>\n",
              "  </tbody>\n",
              "</table>\n",
              "</div>\n",
              "      <button class=\"colab-df-convert\" onclick=\"convertToInteractive('df-bbfeaca4-6640-4978-8d90-c685f0c8194b')\"\n",
              "              title=\"Convert this dataframe to an interactive table.\"\n",
              "              style=\"display:none;\">\n",
              "        \n",
              "  <svg xmlns=\"http://www.w3.org/2000/svg\" height=\"24px\"viewBox=\"0 0 24 24\"\n",
              "       width=\"24px\">\n",
              "    <path d=\"M0 0h24v24H0V0z\" fill=\"none\"/>\n",
              "    <path d=\"M18.56 5.44l.94 2.06.94-2.06 2.06-.94-2.06-.94-.94-2.06-.94 2.06-2.06.94zm-11 1L8.5 8.5l.94-2.06 2.06-.94-2.06-.94L8.5 2.5l-.94 2.06-2.06.94zm10 10l.94 2.06.94-2.06 2.06-.94-2.06-.94-.94-2.06-.94 2.06-2.06.94z\"/><path d=\"M17.41 7.96l-1.37-1.37c-.4-.4-.92-.59-1.43-.59-.52 0-1.04.2-1.43.59L10.3 9.45l-7.72 7.72c-.78.78-.78 2.05 0 2.83L4 21.41c.39.39.9.59 1.41.59.51 0 1.02-.2 1.41-.59l7.78-7.78 2.81-2.81c.8-.78.8-2.07 0-2.86zM5.41 20L4 18.59l7.72-7.72 1.47 1.35L5.41 20z\"/>\n",
              "  </svg>\n",
              "      </button>\n",
              "      \n",
              "  <style>\n",
              "    .colab-df-container {\n",
              "      display:flex;\n",
              "      flex-wrap:wrap;\n",
              "      gap: 12px;\n",
              "    }\n",
              "\n",
              "    .colab-df-convert {\n",
              "      background-color: #E8F0FE;\n",
              "      border: none;\n",
              "      border-radius: 50%;\n",
              "      cursor: pointer;\n",
              "      display: none;\n",
              "      fill: #1967D2;\n",
              "      height: 32px;\n",
              "      padding: 0 0 0 0;\n",
              "      width: 32px;\n",
              "    }\n",
              "\n",
              "    .colab-df-convert:hover {\n",
              "      background-color: #E2EBFA;\n",
              "      box-shadow: 0px 1px 2px rgba(60, 64, 67, 0.3), 0px 1px 3px 1px rgba(60, 64, 67, 0.15);\n",
              "      fill: #174EA6;\n",
              "    }\n",
              "\n",
              "    [theme=dark] .colab-df-convert {\n",
              "      background-color: #3B4455;\n",
              "      fill: #D2E3FC;\n",
              "    }\n",
              "\n",
              "    [theme=dark] .colab-df-convert:hover {\n",
              "      background-color: #434B5C;\n",
              "      box-shadow: 0px 1px 3px 1px rgba(0, 0, 0, 0.15);\n",
              "      filter: drop-shadow(0px 1px 2px rgba(0, 0, 0, 0.3));\n",
              "      fill: #FFFFFF;\n",
              "    }\n",
              "  </style>\n",
              "\n",
              "      <script>\n",
              "        const buttonEl =\n",
              "          document.querySelector('#df-bbfeaca4-6640-4978-8d90-c685f0c8194b button.colab-df-convert');\n",
              "        buttonEl.style.display =\n",
              "          google.colab.kernel.accessAllowed ? 'block' : 'none';\n",
              "\n",
              "        async function convertToInteractive(key) {\n",
              "          const element = document.querySelector('#df-bbfeaca4-6640-4978-8d90-c685f0c8194b');\n",
              "          const dataTable =\n",
              "            await google.colab.kernel.invokeFunction('convertToInteractive',\n",
              "                                                     [key], {});\n",
              "          if (!dataTable) return;\n",
              "\n",
              "          const docLinkHtml = 'Like what you see? Visit the ' +\n",
              "            '<a target=\"_blank\" href=https://colab.research.google.com/notebooks/data_table.ipynb>data table notebook</a>'\n",
              "            + ' to learn more about interactive tables.';\n",
              "          element.innerHTML = '';\n",
              "          dataTable['output_type'] = 'display_data';\n",
              "          await google.colab.output.renderOutput(dataTable, element);\n",
              "          const docLink = document.createElement('div');\n",
              "          docLink.innerHTML = docLinkHtml;\n",
              "          element.appendChild(docLink);\n",
              "        }\n",
              "      </script>\n",
              "    </div>\n",
              "  </div>\n",
              "  "
            ]
          },
          "metadata": {},
          "execution_count": 26
        }
      ]
    },
    {
      "cell_type": "code",
      "source": [
        "# removing links and urls\n",
        "regex_all =  r'\\b[A-Za-z0-9._%+-]+@[A-Za-z0-9.-]+\\.[A-Z|a-z]{2,}\\b|\\w+:\\/\\/w+\\.\\w+\\.\\w+|[\\w\\d\\S]+@\\w+\\.\\w+|http[s]?://(?:[a-zA-Z]|[0-9]|[$-_@.&+]|[!*\\(\\),]|(?:%[0-9a-fA-F][0-9a-fA-F]))+'\n",
        "def remove_email_urls(df):\n",
        "  # removing email and url\n",
        "  df = re.sub(regex_all,\"\",df)\n",
        "  return df \n",
        "\n",
        "df_new = df.applymap(lambda X: remove_email_urls(X) )"
      ],
      "metadata": {
        "id": "WKaWhoUvcdFP"
      },
      "execution_count": 27,
      "outputs": []
    },
    {
      "cell_type": "code",
      "source": [
        "# removing punctuation\n",
        "import string\n",
        "string.punctuation\n",
        "def remove_punctuation(text): \n",
        "    no_punctuation = [ words for words in text if words not in string.punctuation]\n",
        "    words_no_punctuation = ''.join(no_punctuation)\n",
        "    return words_no_punctuation\n",
        "\n",
        "df_new['English'] = df_new['English'].apply(lambda X: remove_punctuation(X))\n",
        "df_new['Kinyarwanda'] = df_new['Kinyarwanda'].apply(lambda X: remove_punctuation(X))"
      ],
      "metadata": {
        "id": "cL6P4FrdiVrZ"
      },
      "execution_count": 29,
      "outputs": []
    },
    {
      "cell_type": "code",
      "source": [
        "df_new.head()"
      ],
      "metadata": {
        "colab": {
          "base_uri": "https://localhost:8080/",
          "height": 206
        },
        "id": "NOT89-yfijN9",
        "outputId": "240fd986-8288-4503-cf0f-514a3e2b63d1"
      },
      "execution_count": 30,
      "outputs": [
        {
          "output_type": "execute_result",
          "data": {
            "text/plain": [
              "            ID                                            English  \\\n",
              "0  ID_IFVTMXW8         fall back to threading messages by subject   \n",
              "1  ID_SBXUPXE3  you will have to restart gimp for the followin...   \n",
              "2  ID_ZOCZ3PXQ  the radio button whose group this widget belon...   \n",
              "3  ID_6AVBJ1YS            print all subdirectories in a directory   \n",
              "4  ID_FW4V44WK  paste the contents of the clipboard as a new i...   \n",
              "\n",
              "                                         Kinyarwanda  \n",
              "0                 inyuma kuri ubutumwa ku ikivugwaho  \n",
              "1  kuri ongera utangire kugirango i amahinduka ku...  \n",
              "2                       akabuto bya itsinda iyi kuri  \n",
              "3          byose ububiko bwungirije in a bushyinguro  \n",
              "4  i ibigize bya i ububikokoporora nka a gishya i...  "
            ],
            "text/html": [
              "\n",
              "  <div id=\"df-452549cf-a564-402c-9a1f-1df6917d0af3\">\n",
              "    <div class=\"colab-df-container\">\n",
              "      <div>\n",
              "<style scoped>\n",
              "    .dataframe tbody tr th:only-of-type {\n",
              "        vertical-align: middle;\n",
              "    }\n",
              "\n",
              "    .dataframe tbody tr th {\n",
              "        vertical-align: top;\n",
              "    }\n",
              "\n",
              "    .dataframe thead th {\n",
              "        text-align: right;\n",
              "    }\n",
              "</style>\n",
              "<table border=\"1\" class=\"dataframe\">\n",
              "  <thead>\n",
              "    <tr style=\"text-align: right;\">\n",
              "      <th></th>\n",
              "      <th>ID</th>\n",
              "      <th>English</th>\n",
              "      <th>Kinyarwanda</th>\n",
              "    </tr>\n",
              "  </thead>\n",
              "  <tbody>\n",
              "    <tr>\n",
              "      <th>0</th>\n",
              "      <td>ID_IFVTMXW8</td>\n",
              "      <td>fall back to threading messages by subject</td>\n",
              "      <td>inyuma kuri ubutumwa ku ikivugwaho</td>\n",
              "    </tr>\n",
              "    <tr>\n",
              "      <th>1</th>\n",
              "      <td>ID_SBXUPXE3</td>\n",
              "      <td>you will have to restart gimp for the followin...</td>\n",
              "      <td>kuri ongera utangire kugirango i amahinduka ku...</td>\n",
              "    </tr>\n",
              "    <tr>\n",
              "      <th>2</th>\n",
              "      <td>ID_ZOCZ3PXQ</td>\n",
              "      <td>the radio button whose group this widget belon...</td>\n",
              "      <td>akabuto bya itsinda iyi kuri</td>\n",
              "    </tr>\n",
              "    <tr>\n",
              "      <th>3</th>\n",
              "      <td>ID_6AVBJ1YS</td>\n",
              "      <td>print all subdirectories in a directory</td>\n",
              "      <td>byose ububiko bwungirije in a bushyinguro</td>\n",
              "    </tr>\n",
              "    <tr>\n",
              "      <th>4</th>\n",
              "      <td>ID_FW4V44WK</td>\n",
              "      <td>paste the contents of the clipboard as a new i...</td>\n",
              "      <td>i ibigize bya i ububikokoporora nka a gishya i...</td>\n",
              "    </tr>\n",
              "  </tbody>\n",
              "</table>\n",
              "</div>\n",
              "      <button class=\"colab-df-convert\" onclick=\"convertToInteractive('df-452549cf-a564-402c-9a1f-1df6917d0af3')\"\n",
              "              title=\"Convert this dataframe to an interactive table.\"\n",
              "              style=\"display:none;\">\n",
              "        \n",
              "  <svg xmlns=\"http://www.w3.org/2000/svg\" height=\"24px\"viewBox=\"0 0 24 24\"\n",
              "       width=\"24px\">\n",
              "    <path d=\"M0 0h24v24H0V0z\" fill=\"none\"/>\n",
              "    <path d=\"M18.56 5.44l.94 2.06.94-2.06 2.06-.94-2.06-.94-.94-2.06-.94 2.06-2.06.94zm-11 1L8.5 8.5l.94-2.06 2.06-.94-2.06-.94L8.5 2.5l-.94 2.06-2.06.94zm10 10l.94 2.06.94-2.06 2.06-.94-2.06-.94-.94-2.06-.94 2.06-2.06.94z\"/><path d=\"M17.41 7.96l-1.37-1.37c-.4-.4-.92-.59-1.43-.59-.52 0-1.04.2-1.43.59L10.3 9.45l-7.72 7.72c-.78.78-.78 2.05 0 2.83L4 21.41c.39.39.9.59 1.41.59.51 0 1.02-.2 1.41-.59l7.78-7.78 2.81-2.81c.8-.78.8-2.07 0-2.86zM5.41 20L4 18.59l7.72-7.72 1.47 1.35L5.41 20z\"/>\n",
              "  </svg>\n",
              "      </button>\n",
              "      \n",
              "  <style>\n",
              "    .colab-df-container {\n",
              "      display:flex;\n",
              "      flex-wrap:wrap;\n",
              "      gap: 12px;\n",
              "    }\n",
              "\n",
              "    .colab-df-convert {\n",
              "      background-color: #E8F0FE;\n",
              "      border: none;\n",
              "      border-radius: 50%;\n",
              "      cursor: pointer;\n",
              "      display: none;\n",
              "      fill: #1967D2;\n",
              "      height: 32px;\n",
              "      padding: 0 0 0 0;\n",
              "      width: 32px;\n",
              "    }\n",
              "\n",
              "    .colab-df-convert:hover {\n",
              "      background-color: #E2EBFA;\n",
              "      box-shadow: 0px 1px 2px rgba(60, 64, 67, 0.3), 0px 1px 3px 1px rgba(60, 64, 67, 0.15);\n",
              "      fill: #174EA6;\n",
              "    }\n",
              "\n",
              "    [theme=dark] .colab-df-convert {\n",
              "      background-color: #3B4455;\n",
              "      fill: #D2E3FC;\n",
              "    }\n",
              "\n",
              "    [theme=dark] .colab-df-convert:hover {\n",
              "      background-color: #434B5C;\n",
              "      box-shadow: 0px 1px 3px 1px rgba(0, 0, 0, 0.15);\n",
              "      filter: drop-shadow(0px 1px 2px rgba(0, 0, 0, 0.3));\n",
              "      fill: #FFFFFF;\n",
              "    }\n",
              "  </style>\n",
              "\n",
              "      <script>\n",
              "        const buttonEl =\n",
              "          document.querySelector('#df-452549cf-a564-402c-9a1f-1df6917d0af3 button.colab-df-convert');\n",
              "        buttonEl.style.display =\n",
              "          google.colab.kernel.accessAllowed ? 'block' : 'none';\n",
              "\n",
              "        async function convertToInteractive(key) {\n",
              "          const element = document.querySelector('#df-452549cf-a564-402c-9a1f-1df6917d0af3');\n",
              "          const dataTable =\n",
              "            await google.colab.kernel.invokeFunction('convertToInteractive',\n",
              "                                                     [key], {});\n",
              "          if (!dataTable) return;\n",
              "\n",
              "          const docLinkHtml = 'Like what you see? Visit the ' +\n",
              "            '<a target=\"_blank\" href=https://colab.research.google.com/notebooks/data_table.ipynb>data table notebook</a>'\n",
              "            + ' to learn more about interactive tables.';\n",
              "          element.innerHTML = '';\n",
              "          dataTable['output_type'] = 'display_data';\n",
              "          await google.colab.output.renderOutput(dataTable, element);\n",
              "          const docLink = document.createElement('div');\n",
              "          docLink.innerHTML = docLinkHtml;\n",
              "          element.appendChild(docLink);\n",
              "        }\n",
              "      </script>\n",
              "    </div>\n",
              "  </div>\n",
              "  "
            ]
          },
          "metadata": {},
          "execution_count": 30
        }
      ]
    },
    {
      "cell_type": "code",
      "source": [],
      "metadata": {
        "id": "0hb5lB0QDEcu"
      },
      "execution_count": 14,
      "outputs": []
    }
  ]
}