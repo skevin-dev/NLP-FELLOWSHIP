{
  "nbformat": 4,
  "nbformat_minor": 0,
  "metadata": {
    "colab": {
      "provenance": [],
      "authorship_tag": "ABX9TyMVWwsAOzlfWBL9gRujczWe",
      "include_colab_link": true
    },
    "kernelspec": {
      "name": "python3",
      "display_name": "Python 3"
    },
    "language_info": {
      "name": "python"
    }
  },
  "cells": [
    {
      "cell_type": "markdown",
      "metadata": {
        "id": "view-in-github",
        "colab_type": "text"
      },
      "source": [
        "<a href=\"https://colab.research.google.com/github/skevin-dev/NLP-FELLOWSHIP/blob/week5/GOV.ipynb\" target=\"_parent\"><img src=\"https://colab.research.google.com/assets/colab-badge.svg\" alt=\"Open In Colab\"/></a>"
      ]
    },
    {
      "cell_type": "code",
      "execution_count": 18,
      "metadata": {
        "id": "e2IPYjT7pmUs"
      },
      "outputs": [],
      "source": [
        "import requests \n",
        "from bs4 import BeautifulSoup \n",
        "import pandas as pd"
      ]
    },
    {
      "cell_type": "code",
      "source": [
        "response = requests.get('https://www.gov.rw/')\n",
        "soup = BeautifulSoup(response.content,'html.parser')"
      ],
      "metadata": {
        "id": "M1PbcKn7qBWa"
      },
      "execution_count": 3,
      "outputs": []
    },
    {
      "cell_type": "code",
      "source": [
        "some_contents = soup.find_all('p',class_='txt_content txt_black mabo0')\n",
        "c = [some_contents[index].text for index in range(len(some_contents))]\n"
      ],
      "metadata": {
        "id": "6aD8qcM_qRcz"
      },
      "execution_count": 4,
      "outputs": []
    },
    {
      "cell_type": "code",
      "source": [
        "c"
      ],
      "metadata": {
        "colab": {
          "base_uri": "https://localhost:8080/"
        },
        "id": "K7leHJ7_r0XK",
        "outputId": "bd66765e-04d1-4e6a-cce5-5f806022789f"
      },
      "execution_count": 5,
      "outputs": [
        {
          "output_type": "execute_result",
          "data": {
            "text/plain": [
              "['Experience stunning scenery, distinctive hospitality and unique experiences in the land of a thousand hills.',\n",
              " '30-day Free Visa upon arrival for African Union, Commonwealth & La Francophonie citizens.',\n",
              " 'The 2nd easiest place to do business in Africa (World Bank 2020)',\n",
              " 'GDP growth (2021)']"
            ]
          },
          "metadata": {},
          "execution_count": 5
        }
      ]
    },
    {
      "cell_type": "code",
      "source": [
        "some_contents1 = soup.find_all('p',class_='txt_content txt_white mabo32')\n",
        "c1 = [some_contents1[index].text for index in range(len(some_contents1))]"
      ],
      "metadata": {
        "id": "vdEXe3tsr1OG"
      },
      "execution_count": 8,
      "outputs": []
    },
    {
      "cell_type": "code",
      "source": [
        "c1"
      ],
      "metadata": {
        "colab": {
          "base_uri": "https://localhost:8080/"
        },
        "id": "05XyM32as7zt",
        "outputId": "02bc90c3-031d-4fbd-e69e-100d39b59066"
      },
      "execution_count": 9,
      "outputs": [
        {
          "output_type": "execute_result",
          "data": {
            "text/plain": [
              "['Known as the land of a thousand hills, Rwanda’s stunning scenery and warm, friendly people offer unique experiences in one of the most remarkable countries in the world.']"
            ]
          },
          "metadata": {},
          "execution_count": 9
        }
      ]
    },
    {
      "cell_type": "code",
      "source": [
        "some_contents2 = soup.find_all('p',class_='txt_content txt_grey')\n",
        "c2 = [some_contents2[index].text for index in range(len(some_contents2))]"
      ],
      "metadata": {
        "id": "ImICxDMKs82g"
      },
      "execution_count": 10,
      "outputs": []
    },
    {
      "cell_type": "code",
      "source": [
        "c2"
      ],
      "metadata": {
        "colab": {
          "base_uri": "https://localhost:8080/"
        },
        "id": "2NSZXnz_tl6J",
        "outputId": "e0774107-f621-4281-9235-babf7f64fd24"
      },
      "execution_count": 11,
      "outputs": [
        {
          "output_type": "execute_result",
          "data": {
            "text/plain": [
              "['Find information about all government services including\\xa0legal and travel documents, business, career opportunities and more.']"
            ]
          },
          "metadata": {},
          "execution_count": 11
        }
      ]
    },
    {
      "cell_type": "code",
      "source": [
        "some_contents3 = soup.find_all('div',class_='txt_content txt_grey')\n",
        "c3 = [some_contents3[index].text for index in range(len(some_contents3))]"
      ],
      "metadata": {
        "id": "ciL1d7hotqSh"
      },
      "execution_count": 12,
      "outputs": []
    },
    {
      "cell_type": "code",
      "source": [
        "c3"
      ],
      "metadata": {
        "colab": {
          "base_uri": "https://localhost:8080/"
        },
        "id": "61QIAFzot7jy",
        "outputId": "96ba131d-e587-4cc1-beca-d70c9c99212a"
      },
      "execution_count": 13,
      "outputs": [
        {
          "output_type": "execute_result",
          "data": {
            "text/plain": [
              "['\\n                \\n                    \\n                            You can request different Government services online through Irembo, the one-stop service portal. \\n                        \\n                \\n            ',\n",
              " \"\\n                \\n                    \\n                            Enjoy Rwanda's business friendly environment. It takes only 6 hours to register a business online. \\n                        \\n                \\n            \",\n",
              " '\\n                \\n                    \\n                            The filing and payment of income tax in different categories is done online. \\n                        \\n                \\n            ',\n",
              " '\\n                \\n                    \\n                            Are you a supplier of goods, works, services or non-consultancy services? The E-Procurement System “Umucyo” links you to all public tenders.\\n                        \\n                \\n            ']"
            ]
          },
          "metadata": {},
          "execution_count": 13
        }
      ]
    },
    {
      "cell_type": "code",
      "source": [],
      "metadata": {
        "id": "g5o8KKstt842"
      },
      "execution_count": null,
      "outputs": []
    },
    {
      "cell_type": "code",
      "source": [
        "some_contents4 = soup.find_all('div',class_='txt_content txt_grey text-justify mabo16 lead')\n",
        "c4 = [some_contents4[index].text for index in range(len(some_contents4))]"
      ],
      "metadata": {
        "id": "3GSYM4mCuXKH"
      },
      "execution_count": 14,
      "outputs": []
    },
    {
      "cell_type": "code",
      "source": [
        "c4"
      ],
      "metadata": {
        "colab": {
          "base_uri": "https://localhost:8080/"
        },
        "id": "P5XAlCeaufqF",
        "outputId": "fdecdfe6-e072-4aab-b97e-b58668cb1757"
      },
      "execution_count": 15,
      "outputs": [
        {
          "output_type": "execute_result",
          "data": {
            "text/plain": [
              "['\\n                    \\n                        \\n                                Kigali, 27 February 2023 - The National Umushyikirano Council opened on Monday at the Kigali Convention centre bringing together over 1500…\\n                            \\n                    \\n                ',\n",
              " '\\n                    \\n                        \\n                                February 8, 2023 - Under the proposed\\xa02022/2023 budget revision, the Government spending will increase by Frw 106.4 billion, a 2.3% increase to Frw…\\n                            \\n                    \\n                ',\n",
              " '\\n                    \\n                        \\n                                1 February 2023 - President Paul Kagame and First Lady Jeannette Kagame on Wednesday laid a wreath at the National Heroes Mausoleum, paying tribute to…\\n                            \\n                    \\n                ',\n",
              " '\\n                    \\n                        \\n                                Thursday, 26 January – President Paul Kagame on Wednesday received Ms. Kristalina Georgieva, the International Monetary Fund (IMF) Managing Director…\\n                            \\n                    \\n                ',\n",
              " '\\n                    \\n                        \\n                                1 January 2023 - Effective January 2023, new school and working hours in Rwanda,\\xa0as adopted by the Cabinet meeting of 11 November 2022, have entered…\\n                            \\n                    \\n                ']"
            ]
          },
          "metadata": {},
          "execution_count": 15
        }
      ]
    },
    {
      "cell_type": "code",
      "source": [
        "list_of_contents = c+c1+c2+c3+c4"
      ],
      "metadata": {
        "id": "V9iK65uougoQ"
      },
      "execution_count": 16,
      "outputs": []
    },
    {
      "cell_type": "code",
      "source": [
        "list_of_contents"
      ],
      "metadata": {
        "colab": {
          "base_uri": "https://localhost:8080/"
        },
        "id": "Uc6ySKTNun6w",
        "outputId": "df035662-d102-4ddb-c12c-496257abdd87"
      },
      "execution_count": 17,
      "outputs": [
        {
          "output_type": "execute_result",
          "data": {
            "text/plain": [
              "['Experience stunning scenery, distinctive hospitality and unique experiences in the land of a thousand hills.',\n",
              " '30-day Free Visa upon arrival for African Union, Commonwealth & La Francophonie citizens.',\n",
              " 'The 2nd easiest place to do business in Africa (World Bank 2020)',\n",
              " 'GDP growth (2021)',\n",
              " 'Known as the land of a thousand hills, Rwanda’s stunning scenery and warm, friendly people offer unique experiences in one of the most remarkable countries in the world.',\n",
              " 'Find information about all government services including\\xa0legal and travel documents, business, career opportunities and more.',\n",
              " '\\n                \\n                    \\n                            You can request different Government services online through Irembo, the one-stop service portal. \\n                        \\n                \\n            ',\n",
              " \"\\n                \\n                    \\n                            Enjoy Rwanda's business friendly environment. It takes only 6 hours to register a business online. \\n                        \\n                \\n            \",\n",
              " '\\n                \\n                    \\n                            The filing and payment of income tax in different categories is done online. \\n                        \\n                \\n            ',\n",
              " '\\n                \\n                    \\n                            Are you a supplier of goods, works, services or non-consultancy services? The E-Procurement System “Umucyo” links you to all public tenders.\\n                        \\n                \\n            ',\n",
              " '\\n                    \\n                        \\n                                Kigali, 27 February 2023 - The National Umushyikirano Council opened on Monday at the Kigali Convention centre bringing together over 1500…\\n                            \\n                    \\n                ',\n",
              " '\\n                    \\n                        \\n                                February 8, 2023 - Under the proposed\\xa02022/2023 budget revision, the Government spending will increase by Frw 106.4 billion, a 2.3% increase to Frw…\\n                            \\n                    \\n                ',\n",
              " '\\n                    \\n                        \\n                                1 February 2023 - President Paul Kagame and First Lady Jeannette Kagame on Wednesday laid a wreath at the National Heroes Mausoleum, paying tribute to…\\n                            \\n                    \\n                ',\n",
              " '\\n                    \\n                        \\n                                Thursday, 26 January – President Paul Kagame on Wednesday received Ms. Kristalina Georgieva, the International Monetary Fund (IMF) Managing Director…\\n                            \\n                    \\n                ',\n",
              " '\\n                    \\n                        \\n                                1 January 2023 - Effective January 2023, new school and working hours in Rwanda,\\xa0as adopted by the Cabinet meeting of 11 November 2022, have entered…\\n                            \\n                    \\n                ']"
            ]
          },
          "metadata": {},
          "execution_count": 17
        }
      ]
    },
    {
      "cell_type": "code",
      "source": [
        "list_of_contents_modified = [item.strip() for item in list_of_contents]"
      ],
      "metadata": {
        "id": "D_f9CFgNvxGK"
      },
      "execution_count": 22,
      "outputs": []
    },
    {
      "cell_type": "code",
      "source": [
        "list_of_contents_modified"
      ],
      "metadata": {
        "colab": {
          "base_uri": "https://localhost:8080/"
        },
        "id": "CGZJDNUyv-v_",
        "outputId": "6c6a15c5-6dff-41ad-e4c5-0045052cbae3"
      },
      "execution_count": 25,
      "outputs": [
        {
          "output_type": "execute_result",
          "data": {
            "text/plain": [
              "['Experience stunning scenery, distinctive hospitality and unique experiences in the land of a thousand hills.',\n",
              " '30-day Free Visa upon arrival for African Union, Commonwealth & La Francophonie citizens.',\n",
              " 'The 2nd easiest place to do business in Africa (World Bank 2020)',\n",
              " 'GDP growth (2021)',\n",
              " 'Known as the land of a thousand hills, Rwanda’s stunning scenery and warm, friendly people offer unique experiences in one of the most remarkable countries in the world.',\n",
              " 'Find information about all government services including\\xa0legal and travel documents, business, career opportunities and more.',\n",
              " 'You can request different Government services online through Irembo, the one-stop service portal.',\n",
              " \"Enjoy Rwanda's business friendly environment. It takes only 6 hours to register a business online.\",\n",
              " 'The filing and payment of income tax in different categories is done online.',\n",
              " 'Are you a supplier of goods, works, services or non-consultancy services? The E-Procurement System “Umucyo” links you to all public tenders.',\n",
              " 'Kigali, 27 February 2023 - The National Umushyikirano Council opened on Monday at the Kigali Convention centre bringing together over 1500…',\n",
              " 'February 8, 2023 - Under the proposed\\xa02022/2023 budget revision, the Government spending will increase by Frw 106.4 billion, a 2.3% increase to Frw…',\n",
              " '1 February 2023 - President Paul Kagame and First Lady Jeannette Kagame on Wednesday laid a wreath at the National Heroes Mausoleum, paying tribute to…',\n",
              " 'Thursday, 26 January – President Paul Kagame on Wednesday received Ms. Kristalina Georgieva, the International Monetary Fund (IMF) Managing Director…',\n",
              " '1 January 2023 - Effective January 2023, new school and working hours in Rwanda,\\xa0as adopted by the Cabinet meeting of 11 November 2022, have entered…']"
            ]
          },
          "metadata": {},
          "execution_count": 25
        }
      ]
    },
    {
      "cell_type": "code",
      "source": [
        "df = pd.DataFrame()"
      ],
      "metadata": {
        "id": "BLjFdVT7uqKL"
      },
      "execution_count": 19,
      "outputs": []
    },
    {
      "cell_type": "code",
      "source": [
        "df['content'] = list_of_contents_modified"
      ],
      "metadata": {
        "id": "CxNs7Xz_u7_j"
      },
      "execution_count": 23,
      "outputs": []
    },
    {
      "cell_type": "code",
      "source": [
        "df\n"
      ],
      "metadata": {
        "colab": {
          "base_uri": "https://localhost:8080/",
          "height": 520
        },
        "id": "k-mDHv7au_qG",
        "outputId": "04a7cc57-9561-4dae-92f0-926a7b4c961d"
      },
      "execution_count": 24,
      "outputs": [
        {
          "output_type": "execute_result",
          "data": {
            "text/plain": [
              "                                              content\n",
              "0   Experience stunning scenery, distinctive hospi...\n",
              "1   30-day Free Visa upon arrival for African Unio...\n",
              "2   The 2nd easiest place to do business in Africa...\n",
              "3                                   GDP growth (2021)\n",
              "4   Known as the land of a thousand hills, Rwanda’...\n",
              "5   Find information about all government services...\n",
              "6   You can request different Government services ...\n",
              "7   Enjoy Rwanda's business friendly environment. ...\n",
              "8   The filing and payment of income tax in differ...\n",
              "9   Are you a supplier of goods, works, services o...\n",
              "10  Kigali, 27 February 2023 - The National Umushy...\n",
              "11  February 8, 2023 - Under the proposed 2022/202...\n",
              "12  1 February 2023 - President Paul Kagame and Fi...\n",
              "13  Thursday, 26 January – President Paul Kagame o...\n",
              "14  1 January 2023 - Effective January 2023, new s..."
            ],
            "text/html": [
              "\n",
              "  <div id=\"df-6399ba69-ff98-42e7-b041-06e1d820e5a1\">\n",
              "    <div class=\"colab-df-container\">\n",
              "      <div>\n",
              "<style scoped>\n",
              "    .dataframe tbody tr th:only-of-type {\n",
              "        vertical-align: middle;\n",
              "    }\n",
              "\n",
              "    .dataframe tbody tr th {\n",
              "        vertical-align: top;\n",
              "    }\n",
              "\n",
              "    .dataframe thead th {\n",
              "        text-align: right;\n",
              "    }\n",
              "</style>\n",
              "<table border=\"1\" class=\"dataframe\">\n",
              "  <thead>\n",
              "    <tr style=\"text-align: right;\">\n",
              "      <th></th>\n",
              "      <th>content</th>\n",
              "    </tr>\n",
              "  </thead>\n",
              "  <tbody>\n",
              "    <tr>\n",
              "      <th>0</th>\n",
              "      <td>Experience stunning scenery, distinctive hospi...</td>\n",
              "    </tr>\n",
              "    <tr>\n",
              "      <th>1</th>\n",
              "      <td>30-day Free Visa upon arrival for African Unio...</td>\n",
              "    </tr>\n",
              "    <tr>\n",
              "      <th>2</th>\n",
              "      <td>The 2nd easiest place to do business in Africa...</td>\n",
              "    </tr>\n",
              "    <tr>\n",
              "      <th>3</th>\n",
              "      <td>GDP growth (2021)</td>\n",
              "    </tr>\n",
              "    <tr>\n",
              "      <th>4</th>\n",
              "      <td>Known as the land of a thousand hills, Rwanda’...</td>\n",
              "    </tr>\n",
              "    <tr>\n",
              "      <th>5</th>\n",
              "      <td>Find information about all government services...</td>\n",
              "    </tr>\n",
              "    <tr>\n",
              "      <th>6</th>\n",
              "      <td>You can request different Government services ...</td>\n",
              "    </tr>\n",
              "    <tr>\n",
              "      <th>7</th>\n",
              "      <td>Enjoy Rwanda's business friendly environment. ...</td>\n",
              "    </tr>\n",
              "    <tr>\n",
              "      <th>8</th>\n",
              "      <td>The filing and payment of income tax in differ...</td>\n",
              "    </tr>\n",
              "    <tr>\n",
              "      <th>9</th>\n",
              "      <td>Are you a supplier of goods, works, services o...</td>\n",
              "    </tr>\n",
              "    <tr>\n",
              "      <th>10</th>\n",
              "      <td>Kigali, 27 February 2023 - The National Umushy...</td>\n",
              "    </tr>\n",
              "    <tr>\n",
              "      <th>11</th>\n",
              "      <td>February 8, 2023 - Under the proposed 2022/202...</td>\n",
              "    </tr>\n",
              "    <tr>\n",
              "      <th>12</th>\n",
              "      <td>1 February 2023 - President Paul Kagame and Fi...</td>\n",
              "    </tr>\n",
              "    <tr>\n",
              "      <th>13</th>\n",
              "      <td>Thursday, 26 January – President Paul Kagame o...</td>\n",
              "    </tr>\n",
              "    <tr>\n",
              "      <th>14</th>\n",
              "      <td>1 January 2023 - Effective January 2023, new s...</td>\n",
              "    </tr>\n",
              "  </tbody>\n",
              "</table>\n",
              "</div>\n",
              "      <button class=\"colab-df-convert\" onclick=\"convertToInteractive('df-6399ba69-ff98-42e7-b041-06e1d820e5a1')\"\n",
              "              title=\"Convert this dataframe to an interactive table.\"\n",
              "              style=\"display:none;\">\n",
              "        \n",
              "  <svg xmlns=\"http://www.w3.org/2000/svg\" height=\"24px\"viewBox=\"0 0 24 24\"\n",
              "       width=\"24px\">\n",
              "    <path d=\"M0 0h24v24H0V0z\" fill=\"none\"/>\n",
              "    <path d=\"M18.56 5.44l.94 2.06.94-2.06 2.06-.94-2.06-.94-.94-2.06-.94 2.06-2.06.94zm-11 1L8.5 8.5l.94-2.06 2.06-.94-2.06-.94L8.5 2.5l-.94 2.06-2.06.94zm10 10l.94 2.06.94-2.06 2.06-.94-2.06-.94-.94-2.06-.94 2.06-2.06.94z\"/><path d=\"M17.41 7.96l-1.37-1.37c-.4-.4-.92-.59-1.43-.59-.52 0-1.04.2-1.43.59L10.3 9.45l-7.72 7.72c-.78.78-.78 2.05 0 2.83L4 21.41c.39.39.9.59 1.41.59.51 0 1.02-.2 1.41-.59l7.78-7.78 2.81-2.81c.8-.78.8-2.07 0-2.86zM5.41 20L4 18.59l7.72-7.72 1.47 1.35L5.41 20z\"/>\n",
              "  </svg>\n",
              "      </button>\n",
              "      \n",
              "  <style>\n",
              "    .colab-df-container {\n",
              "      display:flex;\n",
              "      flex-wrap:wrap;\n",
              "      gap: 12px;\n",
              "    }\n",
              "\n",
              "    .colab-df-convert {\n",
              "      background-color: #E8F0FE;\n",
              "      border: none;\n",
              "      border-radius: 50%;\n",
              "      cursor: pointer;\n",
              "      display: none;\n",
              "      fill: #1967D2;\n",
              "      height: 32px;\n",
              "      padding: 0 0 0 0;\n",
              "      width: 32px;\n",
              "    }\n",
              "\n",
              "    .colab-df-convert:hover {\n",
              "      background-color: #E2EBFA;\n",
              "      box-shadow: 0px 1px 2px rgba(60, 64, 67, 0.3), 0px 1px 3px 1px rgba(60, 64, 67, 0.15);\n",
              "      fill: #174EA6;\n",
              "    }\n",
              "\n",
              "    [theme=dark] .colab-df-convert {\n",
              "      background-color: #3B4455;\n",
              "      fill: #D2E3FC;\n",
              "    }\n",
              "\n",
              "    [theme=dark] .colab-df-convert:hover {\n",
              "      background-color: #434B5C;\n",
              "      box-shadow: 0px 1px 3px 1px rgba(0, 0, 0, 0.15);\n",
              "      filter: drop-shadow(0px 1px 2px rgba(0, 0, 0, 0.3));\n",
              "      fill: #FFFFFF;\n",
              "    }\n",
              "  </style>\n",
              "\n",
              "      <script>\n",
              "        const buttonEl =\n",
              "          document.querySelector('#df-6399ba69-ff98-42e7-b041-06e1d820e5a1 button.colab-df-convert');\n",
              "        buttonEl.style.display =\n",
              "          google.colab.kernel.accessAllowed ? 'block' : 'none';\n",
              "\n",
              "        async function convertToInteractive(key) {\n",
              "          const element = document.querySelector('#df-6399ba69-ff98-42e7-b041-06e1d820e5a1');\n",
              "          const dataTable =\n",
              "            await google.colab.kernel.invokeFunction('convertToInteractive',\n",
              "                                                     [key], {});\n",
              "          if (!dataTable) return;\n",
              "\n",
              "          const docLinkHtml = 'Like what you see? Visit the ' +\n",
              "            '<a target=\"_blank\" href=https://colab.research.google.com/notebooks/data_table.ipynb>data table notebook</a>'\n",
              "            + ' to learn more about interactive tables.';\n",
              "          element.innerHTML = '';\n",
              "          dataTable['output_type'] = 'display_data';\n",
              "          await google.colab.output.renderOutput(dataTable, element);\n",
              "          const docLink = document.createElement('div');\n",
              "          docLink.innerHTML = docLinkHtml;\n",
              "          element.appendChild(docLink);\n",
              "        }\n",
              "      </script>\n",
              "    </div>\n",
              "  </div>\n",
              "  "
            ]
          },
          "metadata": {},
          "execution_count": 24
        }
      ]
    },
    {
      "cell_type": "code",
      "source": [
        "df.to_csv('content.csv',index=False)"
      ],
      "metadata": {
        "id": "RfyUCMU2vAtC"
      },
      "execution_count": 26,
      "outputs": []
    },
    {
      "cell_type": "code",
      "source": [],
      "metadata": {
        "id": "4GHQ5O7qwM1N"
      },
      "execution_count": null,
      "outputs": []
    }
  ]
}