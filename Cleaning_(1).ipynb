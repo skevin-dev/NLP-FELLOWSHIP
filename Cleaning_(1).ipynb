{
  "cells": [
    {
      "cell_type": "markdown",
      "metadata": {
        "id": "view-in-github",
        "colab_type": "text"
      },
      "source": [
        "<a href=\"https://colab.research.google.com/github/skevin-dev/NLP-FELLOWSHIP/blob/week2/Cleaning_(1).ipynb\" target=\"_parent\"><img src=\"https://colab.research.google.com/assets/colab-badge.svg\" alt=\"Open In Colab\"/></a>"
      ]
    },
    {
      "cell_type": "code",
      "execution_count": 1,
      "metadata": {
        "colab": {
          "base_uri": "https://localhost:8080/"
        },
        "id": "WSGbTpEuH8Kf",
        "outputId": "4afbbe1d-8e93-457b-eeed-dd9299e28be5"
      },
      "outputs": [
        {
          "output_type": "stream",
          "name": "stdout",
          "text": [
            "Mounted at /content/gdrive\n"
          ]
        }
      ],
      "source": [
        "from google.colab import drive\n",
        "drive.mount('/content/gdrive')"
      ]
    },
    {
      "cell_type": "code",
      "execution_count": 51,
      "metadata": {
        "id": "9yozlLW8KGEa"
      },
      "outputs": [],
      "source": [
        "# !pip install textract"
      ]
    },
    {
      "cell_type": "code",
      "source": [
        "# pip install clean-text\n"
      ],
      "metadata": {
        "id": "yqeVLJLKfBKN"
      },
      "execution_count": 52,
      "outputs": []
    },
    {
      "cell_type": "code",
      "execution_count": 4,
      "metadata": {
        "id": "RJbfQg5yKA2n",
        "colab": {
          "base_uri": "https://localhost:8080/"
        },
        "outputId": "4ea99f49-5c9d-47c1-83e1-89491449a289"
      },
      "outputs": [
        {
          "output_type": "stream",
          "name": "stderr",
          "text": [
            "WARNING:root:Since the GPL-licensed package `unidecode` is not installed, using Python's `unicodedata` package which yields worse results.\n"
          ]
        }
      ],
      "source": [
        "import textract\n",
        "import os\n",
        "import re \n",
        "import string \n",
        "from cleantext import clean"
      ]
    },
    {
      "cell_type": "code",
      "execution_count": 5,
      "metadata": {
        "colab": {
          "base_uri": "https://localhost:8080/"
        },
        "id": "zf38nI6jJVW3",
        "outputId": "590d946b-d7c9-4052-d326-36ab183df60e"
      },
      "outputs": [
        {
          "output_type": "stream",
          "name": "stdout",
          "text": [
            "'Hansard Report - Thursday, 13th October 2022 (P).pdf'\n",
            "'Hansard Report - Thursday 6th October 2022 (P).pdf'\n",
            "'Hansard Report - Tuesday, 11th October 2022 (P).pdf'\n",
            "'Hansard Report - Wednesday, 12th October 2022 (A).pdf'\n",
            "'Hansard Report - Wednesday, 12th October 2022 (P)_0.pdf'\n",
            " text_files\n"
          ]
        }
      ],
      "source": [
        "path = '/content/gdrive/MyDrive/NLP Fellowship /week1 /data'\n",
        "os.chdir(path)\n",
        "!ls"
      ]
    },
    {
      "cell_type": "code",
      "execution_count": 53,
      "metadata": {
        "id": "-TEZEJuHKekj"
      },
      "outputs": [],
      "source": [
        "text = textract.process(\"Hansard Report - Thursday, 13th October 2022 (P).pdf\")\n",
        "text = text.decode(\"utf-8\")"
      ]
    },
    {
      "cell_type": "markdown",
      "metadata": {
        "id": "9UaKPQ11Kl1U"
      },
      "source": [
        "# Cleaning Text\n",
        "\n",
        "This is the first step in the pipeline. In the real-world, text will not be clean. The above text has a lot of new lines, blank spaces, punctuations, urls and many more. In classification tasks, they will not be helpful. Hence we need to remove them. "
      ]
    },
    {
      "cell_type": "markdown",
      "metadata": {
        "id": "CCJTSeAyqHWl"
      },
      "source": [
        "## Removing the empty lines\n",
        "For the text to be processed well, we need to have the corpus split by only one new line. This will result in one sentence per line"
      ]
    },
    {
      "cell_type": "code",
      "execution_count": 7,
      "metadata": {
        "colab": {
          "base_uri": "https://localhost:8080/"
        },
        "id": "1-BJVbdYKkEm",
        "outputId": "bd6945c1-eb7b-4ee3-a071-2c0f6de3417d"
      },
      "outputs": [
        {
          "output_type": "stream",
          "name": "stdout",
          "text": [
            "['REPUBLIC OF KENYA ', 'THIRTEENTH PARLIAMENT ', 'NATIONAL ASSEMBLY ', 'THE HANSARD ', 'VOL. I NO. 10 ', '13th October 2022                       NATIONAL ASSEMBLY DEBATES                                               1 ', 'THE HANSARD ', 'Thursday, 13th October 2022 ', 'The House met at 2.30 p.m. ', '[The Hon. Speaker (Hon. Moses Wetang’ula) in the Chair] ', 'PRAYERS ', 'Hon. Speaker: We have quorum and so we can proceed.  ', 'NOTICES OF MOTIONS ', 'Hon: Speaker: The Member for Kwanza, Hon. Ferdinand Wanyonyi. ', 'PUBLICATION OF REGULATIONS ON PRIVATE ', 'LAND USE AND MANAGEMENT ', 'Hon. Ferdinand Wanyonyi (Kwanza, FORD-K): Hon. Speaker, I beg to give Notice ', 'of the following Motion:  ', 'THAT, aware that Article 68(c)(i) of the Constitution of Kenya provides ', 'for the minimum and maximum holding acreages with respect to private land; ']\n"
          ]
        }
      ],
      "source": [
        "processed_text = []\n",
        "for line in text.splitlines():  \n",
        "  if line.strip():\n",
        "    processed_text.append(line)\n",
        "\n",
        "print(processed_text[:20])"
      ]
    },
    {
      "cell_type": "code",
      "execution_count": 8,
      "metadata": {
        "colab": {
          "base_uri": "https://localhost:8080/"
        },
        "id": "BC--ZTxG3wOq",
        "outputId": "af6c1d43-c2b1-419c-91f9-38a36cfa4b9a"
      },
      "outputs": [
        {
          "output_type": "stream",
          "name": "stdout",
          "text": [
            "3349\n"
          ]
        }
      ],
      "source": [
        "print(len(processed_text))"
      ]
    },
    {
      "cell_type": "markdown",
      "metadata": {
        "id": "L1nuLMNqvlHN"
      },
      "source": [
        "## Same case\n",
        "When preparing text for classification task, the text need to to be in different cases. We are trying to make the number of words used as small as possible"
      ]
    },
    {
      "cell_type": "code",
      "execution_count": 9,
      "metadata": {
        "colab": {
          "base_uri": "https://localhost:8080/"
        },
        "id": "_vNNprEAsVmZ",
        "outputId": "a98554f7-db33-4fae-d63b-189694df9add"
      },
      "outputs": [
        {
          "output_type": "stream",
          "name": "stdout",
          "text": [
            "False\n",
            "True\n",
            "True\n"
          ]
        }
      ],
      "source": [
        "print('Text' == 'text')\n",
        "print(\"text\" == \"text\")\n",
        "print(\"TEXT\" == \"TEXT\")"
      ]
    },
    {
      "cell_type": "code",
      "execution_count": 10,
      "metadata": {
        "colab": {
          "base_uri": "https://localhost:8080/"
        },
        "id": "b5X68Trlwqor",
        "outputId": "ffff7b3d-6a37-4c2a-e22f-f7a0fc9b0b07"
      },
      "outputs": [
        {
          "output_type": "stream",
          "name": "stdout",
          "text": [
            "['republic of kenya ', 'thirteenth parliament ', 'national assembly ', 'the hansard ', 'vol. i no. 10 ', '13th october 2022                       national assembly debates                                               1 ', 'the hansard ', 'thursday, 13th october 2022 ', 'the house met at 2.30 p.m. ', '[the hon. speaker (hon. moses wetang’ula) in the chair] ', 'prayers ', 'hon. speaker: we have quorum and so we can proceed.  ', 'notices of motions ', 'hon: speaker: the member for kwanza, hon. ferdinand wanyonyi. ', 'publication of regulations on private ', 'land use and management ', 'hon. ferdinand wanyonyi (kwanza, ford-k): hon. speaker, i beg to give notice ', 'of the following motion:  ', 'that, aware that article 68(c)(i) of the constitution of kenya provides ', 'for the minimum and maximum holding acreages with respect to private land; ']\n"
          ]
        }
      ],
      "source": [
        "case_processed = []\n",
        "for line in processed_text:\n",
        "  line = line.lower()\n",
        "  case_processed.append(line)\n",
        "\n",
        "print(case_processed[:20])"
      ]
    },
    {
      "cell_type": "markdown",
      "metadata": {
        "id": "LJAkOeo9yU2y"
      },
      "source": [
        "## Remove duplicate lines\n",
        "When scrapping data, there is a high probaility of the text having duplicate lines or whole articles."
      ]
    },
    {
      "cell_type": "code",
      "execution_count": 11,
      "metadata": {
        "colab": {
          "base_uri": "https://localhost:8080/"
        },
        "id": "q8rXLqt86G1A",
        "outputId": "355271dc-08a7-4b9b-9b8b-f259df498179"
      },
      "outputs": [
        {
          "output_type": "execute_result",
          "data": {
            "text/plain": [
              "{1, 2, 3, 4, 5}"
            ]
          },
          "metadata": {},
          "execution_count": 11
        }
      ],
      "source": [
        "set_example = set([1,1,2,3,4,4,5])\n",
        "set_example"
      ]
    },
    {
      "cell_type": "code",
      "execution_count": 12,
      "metadata": {
        "colab": {
          "base_uri": "https://localhost:8080/"
        },
        "id": "vaZcp6XTxSS-",
        "outputId": "a7b065a3-4b72-4b79-f939-143ec732c5c9"
      },
      "outputs": [
        {
          "output_type": "stream",
          "name": "stdout",
          "text": [
            "['republic of kenya ', 'thirteenth parliament ', 'national assembly ', 'the hansard ', 'vol. i no. 10 ', '13th october 2022                       national assembly debates                                               1 ', 'thursday, 13th october 2022 ', 'the house met at 2.30 p.m. ', '[the hon. speaker (hon. moses wetang’ula) in the chair] ', 'prayers ']\n"
          ]
        }
      ],
      "source": [
        "# Check the order of text when working with set only\n",
        "no_dups_text = []\n",
        "checked_text = set()\n",
        "for line in case_processed:\n",
        "  if line not in checked_text:\n",
        "    no_dups_text.append(line)\n",
        "    checked_text.add(line)\n",
        "\n",
        "print(no_dups_text[:10])\n"
      ]
    },
    {
      "cell_type": "code",
      "execution_count": 13,
      "metadata": {
        "colab": {
          "base_uri": "https://localhost:8080/"
        },
        "id": "ZZKg6Y2T6piB",
        "outputId": "899b2bac-27c6-4a7b-de5f-a39f066b3252"
      },
      "outputs": [
        {
          "output_type": "stream",
          "name": "stdout",
          "text": [
            "3188\n"
          ]
        }
      ],
      "source": [
        "print(len(no_dups_text))"
      ]
    },
    {
      "cell_type": "markdown",
      "metadata": {
        "id": "9FHDfEEe8u2a"
      },
      "source": [
        "## Remove the unwanted whitespaces\n",
        "The document has whitespaces inbetween the sentences"
      ]
    },
    {
      "cell_type": "code",
      "execution_count": 14,
      "metadata": {
        "id": "JOV_S7rZ9if6"
      },
      "outputs": [],
      "source": [
        "## ENTER CODE HERE\n",
        "text_wo_whitespaces = [\" \".join(word.split()) for word in no_dups_text]"
      ]
    },
    {
      "cell_type": "code",
      "execution_count": 15,
      "metadata": {
        "colab": {
          "base_uri": "https://localhost:8080/"
        },
        "id": "uQPEfIGnJ9gV",
        "outputId": "0858533c-66e2-4cad-d8eb-0df24bd32458"
      },
      "outputs": [
        {
          "output_type": "execute_result",
          "data": {
            "text/plain": [
              "['republic of kenya',\n",
              " 'thirteenth parliament',\n",
              " 'national assembly',\n",
              " 'the hansard',\n",
              " 'vol. i no. 10',\n",
              " '13th october 2022 national assembly debates 1',\n",
              " 'thursday, 13th october 2022',\n",
              " 'the house met at 2.30 p.m.',\n",
              " '[the hon. speaker (hon. moses wetang’ula) in the chair]',\n",
              " 'prayers']"
            ]
          },
          "metadata": {},
          "execution_count": 15
        }
      ],
      "source": [
        "text_wo_whitespaces[:10]"
      ]
    },
    {
      "cell_type": "markdown",
      "metadata": {
        "id": "nLVdevrA6mwR"
      },
      "source": [
        "## Remove URLS and Email address\n",
        "We do not need urls and email addresses"
      ]
    },
    {
      "cell_type": "code",
      "execution_count": 16,
      "metadata": {
        "id": "LPWThGmE6LkQ"
      },
      "outputs": [],
      "source": [
        "## ENTER CODE HERE\n",
        "\n",
        "# codes for find email and urls\n",
        "\n",
        "# a sample list\n",
        "shyaka = ['send the letter to shyakakevin1@gmail.com ', 'this is nlp ~~fellowship \\U0001f602', 'find!! the updloaded video?\\U0001f601 on this link: https://www.youtube.com/watch?v=oorVWW9ywG0&list=RDMM&index=4']\n",
        "\n",
        "# regex to search emails and urls\n",
        "regexE = r'\\b[A-Za-z0-9._%+-]+@[A-Za-z0-9.-]+\\.[A-Z|a-z]{2,}\\b'\n",
        "regexL = r'http[s]?://(?:[a-zA-Z]|[0-9]|[$-_@.&+]|[!*\\(\\),]|(?:%[0-9a-fA-F][0-9a-fA-F]))+'\n",
        "\n",
        "emails = []\n",
        "links = []\n",
        "\n",
        "# loop through list of contents and extract links and urls\n",
        "for i in text_wo_whitespaces:\n",
        "  words = i.split(\" \")\n",
        "  for word in words:\n",
        "    if (re.fullmatch(regexE,word)):\n",
        "      emails.append(word)\n",
        "    if (re.fullmatch(regexL,word)):\n",
        "      links.append(word)\n",
        "\n",
        "\n"
      ]
    },
    {
      "cell_type": "code",
      "source": [
        "emails,links"
      ],
      "metadata": {
        "colab": {
          "base_uri": "https://localhost:8080/"
        },
        "id": "xRDsaYCzZgZl",
        "outputId": "c3e949c9-3ca0-46a7-a766-764645ecd0b9"
      },
      "execution_count": 17,
      "outputs": [
        {
          "output_type": "execute_result",
          "data": {
            "text/plain": [
              "([], [])"
            ]
          },
          "metadata": {},
          "execution_count": 17
        }
      ]
    },
    {
      "cell_type": "code",
      "source": [
        "# removing emails and urls in case we have them \n",
        "regexALL = r'\\b[A-Za-z0-9._%+-]+@[A-Za-z0-9.-]+\\.[A-Z|a-z]{2,}\\b|http[s]?://(?:[a-zA-Z]|[0-9]|[$-_@.&+]|[!*\\(\\),]|(?:%[0-9a-fA-F][0-9a-fA-F]))+'\n",
        "w = []\n",
        "for i in shyaka:\n",
        "  # print(i)\n",
        "  d = re.sub(regexALL,\"\",i)\n",
        "  w.append(d)\n",
        "w"
      ],
      "metadata": {
        "colab": {
          "base_uri": "https://localhost:8080/"
        },
        "id": "45WbaOkBbcoJ",
        "outputId": "72acf95c-4491-4c3b-8526-9354e38939b2"
      },
      "execution_count": 18,
      "outputs": [
        {
          "output_type": "execute_result",
          "data": {
            "text/plain": [
              "['send the letter to  ',\n",
              " 'this is nlp ~~fellowship 😂',\n",
              " 'find!! the updloaded video?😁 on this link: ']"
            ]
          },
          "metadata": {},
          "execution_count": 18
        }
      ]
    },
    {
      "cell_type": "code",
      "source": [],
      "metadata": {
        "id": "ue8IIj-mk9-v"
      },
      "execution_count": 18,
      "outputs": []
    },
    {
      "cell_type": "markdown",
      "source": [
        "No emails and links in our email"
      ],
      "metadata": {
        "id": "YPZVZQKZbPpb"
      }
    },
    {
      "cell_type": "markdown",
      "metadata": {
        "id": "8R23V-Zh0uHd"
      },
      "source": [
        "## Removing punctuations\n",
        "Punctuations are tricky especially in African languages. We cannot use the punctuation functions in string class. We need to create our own custom list of punctuations.\n",
        "\n",
        "['[]','\\\\',':',';','']"
      ]
    },
    {
      "cell_type": "code",
      "execution_count": 19,
      "metadata": {
        "id": "AweLG5AY0kCp",
        "colab": {
          "base_uri": "https://localhost:8080/"
        },
        "outputId": "f2dfec49-9c2b-4fef-fb8a-7c896cd41ffe"
      },
      "outputs": [
        {
          "output_type": "execute_result",
          "data": {
            "text/plain": [
              "['thank you so much for allowing me this opportunity',\n",
              " 'the temporary speaker hon david ochieng’ thank you so much member for',\n",
              " 'kesses',\n",
              " 'that marks the end of debate on this motion and like i said i apologise to members',\n",
              " 'who were not able to speak next time they will have an opportunity to do so the mover of',\n",
              " 'this motion would be asked to reply to it next time',\n",
              " 'hon members pursuant to the provisions of standing order no283 regarding the',\n",
              " 'calendar of the assembly and resolutions of the house on wednesday 12th october 2022 the',\n",
              " 'speaker notifies that upon the rise of the house at the appointed time today regular sittings',\n",
              " 'will resume on tuesday 25th october 2022 at 230 pm',\n",
              " 'adjournment',\n",
              " 'the temporary speaker hon david ochieng’ there being no other business and',\n",
              " 'the time being 911 pm this house stands adjourned until tuesday 25th october 2022 at',\n",
              " '230 pm',\n",
              " 'the house rose at 911 pm',\n",
              " '13th october 2022 national assembly debates 66',\n",
              " 'published by',\n",
              " 'clerk of the national assembly',\n",
              " 'parliament buildings',\n",
              " 'nairobi']"
            ]
          },
          "metadata": {},
          "execution_count": 19
        }
      ],
      "source": [
        "## ENTER CODE HERE\n",
        "\n",
        "\n",
        "no_punct = [words.translate(str.maketrans(\"\",\"\",string.punctuation)) for words in text_wo_whitespaces]\n",
        "no_punct[-20:]"
      ]
    },
    {
      "cell_type": "code",
      "source": [
        "text_wo_whitespaces[-20:]"
      ],
      "metadata": {
        "colab": {
          "base_uri": "https://localhost:8080/"
        },
        "id": "kyEyx-8PFGyP",
        "outputId": "3b2f03bc-3e7e-4433-8f25-acb77aad2ec1"
      },
      "execution_count": 20,
      "outputs": [
        {
          "output_type": "execute_result",
          "data": {
            "text/plain": [
              "['thank you so much for allowing me this opportunity.',\n",
              " 'the temporary speaker (hon. david ochieng’): thank you so much, member for',\n",
              " 'kesses.',\n",
              " 'that marks the end of debate on this motion; and like i said, i apologise to members',\n",
              " 'who were not able to speak. next time, they will have an opportunity to do so. the mover of',\n",
              " 'this motion would be asked to reply to it next time.',\n",
              " 'hon. members pursuant to the provisions of standing order no.28(3), regarding the',\n",
              " 'calendar of the assembly, and resolutions of the house on wednesday 12th october 2022, the',\n",
              " 'speaker notifies that upon the rise of the house at the appointed time today, regular sittings',\n",
              " 'will resume on tuesday, 25th october 2022 at 2:30 p.m.',\n",
              " 'adjournment',\n",
              " 'the temporary speaker (hon. david ochieng’): there being no other business, and',\n",
              " 'the time being 9.11 p.m., this house, stands adjourned until tuesday, 25th october 2022, at',\n",
              " '2.30 p.m.',\n",
              " 'the house rose at 9.11 p.m.',\n",
              " '13th october 2022 national assembly debates 66',\n",
              " 'published by',\n",
              " 'clerk of the national assembly',\n",
              " 'parliament buildings',\n",
              " 'nairobi']"
            ]
          },
          "metadata": {},
          "execution_count": 20
        }
      ]
    },
    {
      "cell_type": "markdown",
      "metadata": {
        "id": "Zmx8NIP79x7t"
      },
      "source": [
        "## Remove Emoticons\n",
        "The internet has brought the rise of emojis. If you will be processing data from social media, you will need to remove emojis. Emojis are represented in the form of unicodes e.g U+1F600"
      ]
    },
    {
      "cell_type": "code",
      "source": [
        "shyaka"
      ],
      "metadata": {
        "colab": {
          "base_uri": "https://localhost:8080/"
        },
        "id": "kUQ39SnZgs9k",
        "outputId": "8c97db9b-a9b7-4f7d-e0aa-0425f898068f"
      },
      "execution_count": 21,
      "outputs": [
        {
          "output_type": "execute_result",
          "data": {
            "text/plain": [
              "['send the letter to shyakakevin1@gmail.com ',\n",
              " 'this is nlp ~~fellowship 😂',\n",
              " 'find!! the updloaded video?😁 on this link: https://www.youtube.com/watch?v=oorVWW9ywG0&list=RDMM&index=4']"
            ]
          },
          "metadata": {},
          "execution_count": 21
        }
      ]
    },
    {
      "cell_type": "code",
      "execution_count": 22,
      "metadata": {
        "id": "wJsOO_jTAQ7j",
        "colab": {
          "base_uri": "https://localhost:8080/"
        },
        "outputId": "0ec8d851-ff16-49a7-8294-7102744680b9"
      },
      "outputs": [
        {
          "output_type": "execute_result",
          "data": {
            "text/plain": [
              "['send the letter to shyakakevin1@gmail.com',\n",
              " 'this is nlp ~~fellowship',\n",
              " 'find!! the updloaded video? on this link: https://www.youtube.com/watch?v=oorvww9ywg0&list=rdmm&index=4']"
            ]
          },
          "metadata": {},
          "execution_count": 22
        }
      ],
      "source": [
        "## ENTER CODE HERE\n",
        "\n",
        "no_emojis_ = [clean(words,no_emoji=True) for words in shyaka]\n",
        "no_emojis_"
      ]
    },
    {
      "cell_type": "code",
      "source": [
        "emoji_pattern = re.compile(\"[\"\n",
        "        u\"\\U0001F600-\\U0001F64F\"  # emoticons\n",
        "        u\"\\U0001F300-\\U0001F5FF\"  # symbols & pictographs\n",
        "        u\"\\U0001F680-\\U0001F6FF\"  # transport & map symbols\n",
        "        u\"\\U0001F1E0-\\U0001F1FF\"  # flags (iOS)\n",
        "                           \"]+\", flags=re.UNICODE)\n",
        "\n",
        "# print(emoji_pattern.sub(r'', text)) # no emoji\n",
        "\n",
        "no_emojis = [emoji_pattern.sub(r'',words) for words in shyaka]\n",
        "\n",
        "no_emojis"
      ],
      "metadata": {
        "colab": {
          "base_uri": "https://localhost:8080/"
        },
        "id": "6iFStkq7ctaF",
        "outputId": "d3fa74dc-31f6-4d70-ff63-d3356daf9745"
      },
      "execution_count": 23,
      "outputs": [
        {
          "output_type": "execute_result",
          "data": {
            "text/plain": [
              "['send the letter to shyakakevin1@gmail.com ',\n",
              " 'this is nlp ~~fellowship ',\n",
              " 'find!! the updloaded video? on this link: https://www.youtube.com/watch?v=oorVWW9ywG0&list=RDMM&index=4']"
            ]
          },
          "metadata": {},
          "execution_count": 23
        }
      ]
    },
    {
      "cell_type": "markdown",
      "metadata": {
        "id": "N8XYi2ZXASFI"
      },
      "source": [
        "## Remove sensitive data\n",
        "There are some privacy considerations when dealing with data. There are senstive data such as phone numbers, Names, card details and many more. +44XX XXXXX"
      ]
    },
    {
      "cell_type": "code",
      "execution_count": 24,
      "metadata": {
        "id": "urAl0veNAzbc"
      },
      "outputs": [],
      "source": [
        "## ENTER CODE HERE\n"
      ]
    },
    {
      "cell_type": "markdown",
      "metadata": {
        "id": "KsxBtSTWBXT7"
      },
      "source": [
        "# In-class Practicals\n",
        "Finish writing the code above. Save the data in a txt file. It will be used for the next class\n"
      ]
    },
    {
      "cell_type": "markdown",
      "metadata": {
        "id": "Yq2yR7LyCIv4"
      },
      "source": [
        "# Assignment \n",
        "Create a function that will run all the steps in one iteration. Run the code on the csv file used in the last assignment. "
      ]
    },
    {
      "cell_type": "code",
      "source": [
        "text_= '''\n",
        "This is nlp fellowship which might be good \\U0001f602 for those interested in machine'learning!!!. \n",
        "This is nlp fellowship which might be good \\U0001f602 for those interested in machine'learning!!!. \n",
        "got a question ?, All question must be SUBMITTED  to this email: shyakakevin1@gmail.com. interesting \\U0001f602 ??? or yeah ~~~ and this phone +4487928272. \n",
        "we have monthly hackaton for 250$ each groups and mr. LADIES and GENTLEMAN, we invite to visit this link https://huzalabs.medium.com/nlp-fellowship-2022-africa-boosting-skills-in-machine-translation-and-ai-chatbots-7fe9886fdceb\n",
        "for our medium. we have PROF.MCsharry on the board>> a nd our CEO da @vy to make thing@#!s cleae@$rl. \n",
        "'''"
      ],
      "metadata": {
        "id": "dig6A-lSln5v"
      },
      "execution_count": 41,
      "outputs": []
    },
    {
      "cell_type": "code",
      "execution_count": 50,
      "metadata": {
        "id": "EIyREAs2BHzS"
      },
      "outputs": [],
      "source": [
        "def cleaning_text(text):\n",
        "  \"\"\"This functions helps to make some cleanings given a text file \n",
        "\n",
        "  Args\n",
        "  ----\n",
        "  text(str): text to be cleaned \n",
        "\n",
        "  Returns\n",
        "  -------\n",
        "  final_text(list): returns a list containing cleaned text  \n",
        "  \"\"\"\n",
        "\n",
        "  # convert text file into a list and remove empty lines \n",
        "  uncleaned_text = [line for line in text.splitlines() if line.strip()]\n",
        "\n",
        "  # same cases \n",
        "  same_case = [line.lower() for line in uncleaned_text]\n",
        "\n",
        "  # remove duplicate lines \n",
        "  no_dups_line = []\n",
        "  for line in same_case:\n",
        "    if line not in no_dups_line:\n",
        "      no_dups_line.append(line)\n",
        "\n",
        "  # remove emails and urls\n",
        "  email_link_pattern = r'\\b[A-Za-z0-9._%+-]+@[A-Za-z0-9.-]+\\.[A-Z|a-z]{2,}\\b|http[s]?://(?:[a-zA-Z]|[0-9]|[$-_@.&+]|[!*\\(\\),]|(?:%[0-9a-fA-F][0-9a-fA-F]))+'\n",
        "\n",
        "  no_email_link = [re.sub(email_link_pattern,\"\",line) for line in no_dups_line ]\n",
        "\n",
        "  # remove punctuations\n",
        "  no_punct = [line.translate(str.maketrans(\" \",\" \",string.punctuation)) for line in no_email_link]\n",
        "\n",
        "  # remove emojis \n",
        "  no_emojis = [clean(line,no_emoji=True) for line in no_punct]\n",
        "\n",
        "  # remove sensitive data \n",
        "  sensitive_data_pattern =  r'\\d{1,}|\\+\\d+\\s\\d+\\s\\d+|\\+\\d+\\s\\d+'\n",
        "\n",
        "  no_sensitive_data = [re.sub(sensitive_data_pattern,\"\",line) for line in no_emojis ]\n",
        "\n",
        "  # remove white spaces \n",
        "  final_text = [\" \".join(line.split()) for line in no_sensitive_data]\n",
        "\n",
        "  return final_text\n",
        "\n",
        "# Write text into a .txt file\n",
        "cleaned_data =  cleaning_text(text)\n",
        "path = '/content/gdrive/MyDrive/NLP Fellowship /week 2 /cleaned_data/'\n",
        "y = open(path+'/cleaned_data.txt', 'w+',  encoding='utf-8')\n",
        "for x in cleaned_data:\n",
        "  y.write(x+' \\n')"
      ]
    }
  ],
  "metadata": {
    "colab": {
      "provenance": [],
      "include_colab_link": true
    },
    "kernelspec": {
      "display_name": "Python 3",
      "name": "python3"
    },
    "language_info": {
      "name": "python"
    }
  },
  "nbformat": 4,
  "nbformat_minor": 0
}