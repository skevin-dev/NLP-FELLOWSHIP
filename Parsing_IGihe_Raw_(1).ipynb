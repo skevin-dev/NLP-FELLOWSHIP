{
  "cells": [
    {
      "cell_type": "markdown",
      "metadata": {
        "id": "view-in-github",
        "colab_type": "text"
      },
      "source": [
        "<a href=\"https://colab.research.google.com/github/skevin-dev/NLP-FELLOWSHIP/blob/week1/Parsing_IGihe_Raw_(1).ipynb\" target=\"_parent\"><img src=\"https://colab.research.google.com/assets/colab-badge.svg\" alt=\"Open In Colab\"/></a>"
      ]
    },
    {
      "cell_type": "code",
      "execution_count": 1,
      "metadata": {
        "id": "e6866dda"
      },
      "outputs": [],
      "source": [
        "\n",
        "import requests\n",
        "\n",
        "from bs4 import BeautifulSoup\n",
        "import pandas as pd"
      ],
      "id": "e6866dda"
    },
    {
      "cell_type": "code",
      "execution_count": 2,
      "metadata": {
        "id": "c9cb3f86"
      },
      "outputs": [],
      "source": [
        "#Get all the available captures since jan-2022"
      ],
      "id": "c9cb3f86"
    },
    {
      "cell_type": "code",
      "execution_count": 3,
      "metadata": {
        "id": "805c52bc"
      },
      "outputs": [],
      "source": [
        "links =  requests.get('http://archive.org/wayback/available?url=igihe.com&timestamp=20220123')"
      ],
      "id": "805c52bc"
    },
    {
      "cell_type": "code",
      "execution_count": 4,
      "metadata": {
        "colab": {
          "base_uri": "https://localhost:8080/"
        },
        "id": "9bee00f7",
        "outputId": "8da99761-461c-427b-e737-32cb01cb5b66"
      },
      "outputs": [
        {
          "output_type": "execute_result",
          "data": {
            "text/plain": [
              "{'url': 'igihe.com', 'archived_snapshots': {}, 'timestamp': '20220123'}"
            ]
          },
          "metadata": {},
          "execution_count": 4
        }
      ],
      "source": [
        "links.json()"
      ],
      "id": "9bee00f7"
    },
    {
      "cell_type": "code",
      "execution_count": 5,
      "metadata": {
        "id": "c80e0c01",
        "scrolled": true
      },
      "outputs": [],
      "source": [
        "snaps = []\n",
        "err = []\n",
        "for month in range(10):\n",
        "    for day in range(31):\n",
        "        link = requests.get('http://archive.org/wayback/available?url=igihe.com&timestamp=2022{:02d}{:02d}'.format(month, day))\n",
        "        try:\n",
        "            if link.json()['archived_snapshots']['closest']['available']:\n",
        "                snaps.append(link.json()['archived_snapshots']['closest']['url'])\n",
        "        except KeyError:\n",
        "            err.append(link.json())\n",
        "            break"
      ],
      "id": "c80e0c01"
    },
    {
      "cell_type": "code",
      "execution_count": 6,
      "metadata": {
        "id": "bvPFkXLy7Gt-"
      },
      "outputs": [],
      "source": [
        "snaps_r  = set(snaps)"
      ],
      "id": "bvPFkXLy7Gt-"
    },
    {
      "cell_type": "code",
      "execution_count": 7,
      "metadata": {
        "colab": {
          "base_uri": "https://localhost:8080/"
        },
        "id": "e0DZ-ggp798R",
        "outputId": "149d1eb7-14c4-4740-f4ec-31e0c083f030"
      },
      "outputs": [
        {
          "output_type": "execute_result",
          "data": {
            "text/plain": [
              "11"
            ]
          },
          "metadata": {},
          "execution_count": 7
        }
      ],
      "source": [
        "len(snaps_r)"
      ],
      "id": "e0DZ-ggp798R"
    },
    {
      "cell_type": "code",
      "execution_count": 8,
      "metadata": {
        "id": "56WvM9O8CewB"
      },
      "outputs": [],
      "source": [
        "snap_r = list(snaps_r)"
      ],
      "id": "56WvM9O8CewB"
    },
    {
      "cell_type": "code",
      "execution_count": 9,
      "metadata": {
        "colab": {
          "base_uri": "https://localhost:8080/"
        },
        "id": "BaUACdbdDCdD",
        "outputId": "90879043-0988-4941-e73d-9465347f00af"
      },
      "outputs": [
        {
          "output_type": "execute_result",
          "data": {
            "text/plain": [
              "11"
            ]
          },
          "metadata": {},
          "execution_count": 9
        }
      ],
      "source": [
        "len(snap_r)"
      ],
      "id": "BaUACdbdDCdD"
    },
    {
      "cell_type": "code",
      "execution_count": 10,
      "metadata": {
        "colab": {
          "base_uri": "https://localhost:8080/",
          "height": 36
        },
        "id": "RBIVQxEPYltW",
        "outputId": "a9ba0a60-8f7b-4669-bcea-67465628364d"
      },
      "outputs": [
        {
          "output_type": "execute_result",
          "data": {
            "text/plain": [
              "'http://web.archive.org/web/20220603005738/https://www.igihe.com/'"
            ],
            "application/vnd.google.colaboratory.intrinsic+json": {
              "type": "string"
            }
          },
          "metadata": {},
          "execution_count": 10
        }
      ],
      "source": [
        "str(snap_r[0])"
      ],
      "id": "RBIVQxEPYltW"
    },
    {
      "cell_type": "code",
      "execution_count": 11,
      "metadata": {
        "id": "eKW-2RmtDUUv"
      },
      "outputs": [],
      "source": [
        "b = requests.get(url=str(snap_r[0]))"
      ],
      "id": "eKW-2RmtDUUv"
    },
    {
      "cell_type": "code",
      "source": [
        "\n",
        "links_art = []\n",
        "\n",
        "for lin in snaps_r:\n",
        "  content = requests.get(url=lin).content\n",
        "  soup =  BeautifulSoup(content, \"html.parser\")\n",
        "  articles = soup.find_all('span', class_=\"homenews-title\")\n",
        "  links_art.append(articles)"
      ],
      "metadata": {
        "id": "XatE_lKxC3BG"
      },
      "id": "XatE_lKxC3BG",
      "execution_count": 12,
      "outputs": []
    },
    {
      "cell_type": "code",
      "execution_count": 13,
      "metadata": {
        "colab": {
          "base_uri": "https://localhost:8080/",
          "height": 36
        },
        "id": "5X-tf-97HqZq",
        "outputId": "68a1d1f0-d03c-4c9a-ca16-38df7e5aca0e"
      },
      "outputs": [
        {
          "output_type": "execute_result",
          "data": {
            "text/plain": [
              "'imyidagaduro/article/the-ben-yageze-i-kampala-ahisha-umukunzi-we-itangazamakuru'"
            ],
            "application/vnd.google.colaboratory.intrinsic+json": {
              "type": "string"
            }
          },
          "metadata": {},
          "execution_count": 13
        }
      ],
      "source": [
        "links_art[0][0].find('a')['href']"
      ],
      "id": "5X-tf-97HqZq"
    },
    {
      "cell_type": "code",
      "execution_count": 14,
      "metadata": {
        "colab": {
          "base_uri": "https://localhost:8080/",
          "height": 36
        },
        "id": "aZfTEsJVd872",
        "outputId": "fafd1cdb-75e2-4171-cb75-a95da4e5c7f8"
      },
      "outputs": [
        {
          "output_type": "execute_result",
          "data": {
            "text/plain": [
              "'http://web.archive.org/web/20220603005738/https://www.igihe.com/'"
            ],
            "application/vnd.google.colaboratory.intrinsic+json": {
              "type": "string"
            }
          },
          "metadata": {},
          "execution_count": 14
        }
      ],
      "source": [
        "list(snaps_r)[0]"
      ],
      "id": "aZfTEsJVd872"
    },
    {
      "cell_type": "code",
      "execution_count": 15,
      "metadata": {
        "id": "FZ-U9WKMadtF"
      },
      "outputs": [],
      "source": [
        "#Actual link\n",
        "wayback_link = []\n",
        "href_link = []\n",
        "\n",
        "#Loop all the 184 snapshots\n",
        "for index, snapshot in enumerate(list(snaps_r)):\n",
        "  #In each title assign it's snapshop prefix link\n",
        "  for title in links_art[index]:\n",
        "    wayback_link.append(snapshot)\n",
        "    href_link.append(str(title.find('a')['href']))"
      ],
      "id": "FZ-U9WKMadtF"
    },
    {
      "cell_type": "code",
      "execution_count": 16,
      "metadata": {
        "colab": {
          "base_uri": "https://localhost:8080/"
        },
        "id": "945pI3xxfpKd",
        "outputId": "b641f2da-3170-4b90-a967-23851082a5aa"
      },
      "outputs": [
        {
          "output_type": "execute_result",
          "data": {
            "text/plain": [
              "803"
            ]
          },
          "metadata": {},
          "execution_count": 16
        }
      ],
      "source": [
        "len(href_link)"
      ],
      "id": "945pI3xxfpKd"
    },
    {
      "cell_type": "code",
      "execution_count": 17,
      "metadata": {
        "id": "KfDVPDvdmTV8"
      },
      "outputs": [],
      "source": [
        "df = pd.DataFrame(list(zip(wayback_link, href_link)), columns=['Prefix', 'Title'])"
      ],
      "id": "KfDVPDvdmTV8"
    },
    {
      "cell_type": "code",
      "execution_count": 18,
      "metadata": {
        "colab": {
          "base_uri": "https://localhost:8080/",
          "height": 175
        },
        "id": "OYwzOppmoWWy",
        "outputId": "4e97ddcf-e71e-4f22-fcf6-1923f696a65c"
      },
      "outputs": [
        {
          "output_type": "execute_result",
          "data": {
            "text/plain": [
              "                                                   Prefix  \\\n",
              "count                                                 803   \n",
              "unique                                                 11   \n",
              "top     http://web.archive.org/web/20220603005738/http...   \n",
              "freq                                                   73   \n",
              "\n",
              "                                                    Title  \n",
              "count                                                 803  \n",
              "unique                                                642  \n",
              "top     abantu/kubaho/urukundo/article/kubana-mutarash...  \n",
              "freq                                                    4  "
            ],
            "text/html": [
              "\n",
              "  <div id=\"df-750e48cc-1967-456b-b128-2985fe06be31\">\n",
              "    <div class=\"colab-df-container\">\n",
              "      <div>\n",
              "<style scoped>\n",
              "    .dataframe tbody tr th:only-of-type {\n",
              "        vertical-align: middle;\n",
              "    }\n",
              "\n",
              "    .dataframe tbody tr th {\n",
              "        vertical-align: top;\n",
              "    }\n",
              "\n",
              "    .dataframe thead th {\n",
              "        text-align: right;\n",
              "    }\n",
              "</style>\n",
              "<table border=\"1\" class=\"dataframe\">\n",
              "  <thead>\n",
              "    <tr style=\"text-align: right;\">\n",
              "      <th></th>\n",
              "      <th>Prefix</th>\n",
              "      <th>Title</th>\n",
              "    </tr>\n",
              "  </thead>\n",
              "  <tbody>\n",
              "    <tr>\n",
              "      <th>count</th>\n",
              "      <td>803</td>\n",
              "      <td>803</td>\n",
              "    </tr>\n",
              "    <tr>\n",
              "      <th>unique</th>\n",
              "      <td>11</td>\n",
              "      <td>642</td>\n",
              "    </tr>\n",
              "    <tr>\n",
              "      <th>top</th>\n",
              "      <td>http://web.archive.org/web/20220603005738/http...</td>\n",
              "      <td>abantu/kubaho/urukundo/article/kubana-mutarash...</td>\n",
              "    </tr>\n",
              "    <tr>\n",
              "      <th>freq</th>\n",
              "      <td>73</td>\n",
              "      <td>4</td>\n",
              "    </tr>\n",
              "  </tbody>\n",
              "</table>\n",
              "</div>\n",
              "      <button class=\"colab-df-convert\" onclick=\"convertToInteractive('df-750e48cc-1967-456b-b128-2985fe06be31')\"\n",
              "              title=\"Convert this dataframe to an interactive table.\"\n",
              "              style=\"display:none;\">\n",
              "        \n",
              "  <svg xmlns=\"http://www.w3.org/2000/svg\" height=\"24px\"viewBox=\"0 0 24 24\"\n",
              "       width=\"24px\">\n",
              "    <path d=\"M0 0h24v24H0V0z\" fill=\"none\"/>\n",
              "    <path d=\"M18.56 5.44l.94 2.06.94-2.06 2.06-.94-2.06-.94-.94-2.06-.94 2.06-2.06.94zm-11 1L8.5 8.5l.94-2.06 2.06-.94-2.06-.94L8.5 2.5l-.94 2.06-2.06.94zm10 10l.94 2.06.94-2.06 2.06-.94-2.06-.94-.94-2.06-.94 2.06-2.06.94z\"/><path d=\"M17.41 7.96l-1.37-1.37c-.4-.4-.92-.59-1.43-.59-.52 0-1.04.2-1.43.59L10.3 9.45l-7.72 7.72c-.78.78-.78 2.05 0 2.83L4 21.41c.39.39.9.59 1.41.59.51 0 1.02-.2 1.41-.59l7.78-7.78 2.81-2.81c.8-.78.8-2.07 0-2.86zM5.41 20L4 18.59l7.72-7.72 1.47 1.35L5.41 20z\"/>\n",
              "  </svg>\n",
              "      </button>\n",
              "      \n",
              "  <style>\n",
              "    .colab-df-container {\n",
              "      display:flex;\n",
              "      flex-wrap:wrap;\n",
              "      gap: 12px;\n",
              "    }\n",
              "\n",
              "    .colab-df-convert {\n",
              "      background-color: #E8F0FE;\n",
              "      border: none;\n",
              "      border-radius: 50%;\n",
              "      cursor: pointer;\n",
              "      display: none;\n",
              "      fill: #1967D2;\n",
              "      height: 32px;\n",
              "      padding: 0 0 0 0;\n",
              "      width: 32px;\n",
              "    }\n",
              "\n",
              "    .colab-df-convert:hover {\n",
              "      background-color: #E2EBFA;\n",
              "      box-shadow: 0px 1px 2px rgba(60, 64, 67, 0.3), 0px 1px 3px 1px rgba(60, 64, 67, 0.15);\n",
              "      fill: #174EA6;\n",
              "    }\n",
              "\n",
              "    [theme=dark] .colab-df-convert {\n",
              "      background-color: #3B4455;\n",
              "      fill: #D2E3FC;\n",
              "    }\n",
              "\n",
              "    [theme=dark] .colab-df-convert:hover {\n",
              "      background-color: #434B5C;\n",
              "      box-shadow: 0px 1px 3px 1px rgba(0, 0, 0, 0.15);\n",
              "      filter: drop-shadow(0px 1px 2px rgba(0, 0, 0, 0.3));\n",
              "      fill: #FFFFFF;\n",
              "    }\n",
              "  </style>\n",
              "\n",
              "      <script>\n",
              "        const buttonEl =\n",
              "          document.querySelector('#df-750e48cc-1967-456b-b128-2985fe06be31 button.colab-df-convert');\n",
              "        buttonEl.style.display =\n",
              "          google.colab.kernel.accessAllowed ? 'block' : 'none';\n",
              "\n",
              "        async function convertToInteractive(key) {\n",
              "          const element = document.querySelector('#df-750e48cc-1967-456b-b128-2985fe06be31');\n",
              "          const dataTable =\n",
              "            await google.colab.kernel.invokeFunction('convertToInteractive',\n",
              "                                                     [key], {});\n",
              "          if (!dataTable) return;\n",
              "\n",
              "          const docLinkHtml = 'Like what you see? Visit the ' +\n",
              "            '<a target=\"_blank\" href=https://colab.research.google.com/notebooks/data_table.ipynb>data table notebook</a>'\n",
              "            + ' to learn more about interactive tables.';\n",
              "          element.innerHTML = '';\n",
              "          dataTable['output_type'] = 'display_data';\n",
              "          await google.colab.output.renderOutput(dataTable, element);\n",
              "          const docLink = document.createElement('div');\n",
              "          docLink.innerHTML = docLinkHtml;\n",
              "          element.appendChild(docLink);\n",
              "        }\n",
              "      </script>\n",
              "    </div>\n",
              "  </div>\n",
              "  "
            ]
          },
          "metadata": {},
          "execution_count": 18
        }
      ],
      "source": [
        "df.describe()"
      ],
      "id": "OYwzOppmoWWy"
    },
    {
      "cell_type": "code",
      "execution_count": 19,
      "metadata": {
        "colab": {
          "base_uri": "https://localhost:8080/",
          "height": 363
        },
        "id": "ZqZO4esonD7w",
        "outputId": "14174996-00d3-4ba8-df12-c627d3e8f777"
      },
      "outputs": [
        {
          "output_type": "execute_result",
          "data": {
            "text/plain": [
              "                                              Prefix  \\\n",
              "0  http://web.archive.org/web/20220603005738/http...   \n",
              "1  http://web.archive.org/web/20220603005738/http...   \n",
              "2  http://web.archive.org/web/20220603005738/http...   \n",
              "3  http://web.archive.org/web/20220603005738/http...   \n",
              "4  http://web.archive.org/web/20220603005738/http...   \n",
              "5  http://web.archive.org/web/20220603005738/http...   \n",
              "6  http://web.archive.org/web/20220603005738/http...   \n",
              "7  http://web.archive.org/web/20220603005738/http...   \n",
              "8  http://web.archive.org/web/20220603005738/http...   \n",
              "9  http://web.archive.org/web/20220603005738/http...   \n",
              "\n",
              "                                               Title  \n",
              "0  imyidagaduro/article/the-ben-yageze-i-kampala-...  \n",
              "1  amakuru/u-rwanda/article/minisitiri-w-intebe-y...  \n",
              "2  amakuru/article/can-2023-amavubi-yakuye-inota-...  \n",
              "3  amakuru/u-rwanda/article/intumwa-za-mozambique...  \n",
              "4  amakuru/u-rwanda/article/perezida-tshisekedi-y...  \n",
              "5  amakuru/u-rwanda/article/mu-2021-leta-yahombye...  \n",
              "6  amakuru/mu-mahanga/article/u-burusiya-bumaze-g...  \n",
              "7  imyemerere/muzika/article/ibitaravuzwe-kuri-ro...  \n",
              "8  amakuru/u-rwanda/article/rab-yahumurije-abatur...  \n",
              "9  amakuru/muri-afurika/article/eac-iri-hafi-guka...  "
            ],
            "text/html": [
              "\n",
              "  <div id=\"df-193a40a2-f324-4f87-906e-a0ce32598744\">\n",
              "    <div class=\"colab-df-container\">\n",
              "      <div>\n",
              "<style scoped>\n",
              "    .dataframe tbody tr th:only-of-type {\n",
              "        vertical-align: middle;\n",
              "    }\n",
              "\n",
              "    .dataframe tbody tr th {\n",
              "        vertical-align: top;\n",
              "    }\n",
              "\n",
              "    .dataframe thead th {\n",
              "        text-align: right;\n",
              "    }\n",
              "</style>\n",
              "<table border=\"1\" class=\"dataframe\">\n",
              "  <thead>\n",
              "    <tr style=\"text-align: right;\">\n",
              "      <th></th>\n",
              "      <th>Prefix</th>\n",
              "      <th>Title</th>\n",
              "    </tr>\n",
              "  </thead>\n",
              "  <tbody>\n",
              "    <tr>\n",
              "      <th>0</th>\n",
              "      <td>http://web.archive.org/web/20220603005738/http...</td>\n",
              "      <td>imyidagaduro/article/the-ben-yageze-i-kampala-...</td>\n",
              "    </tr>\n",
              "    <tr>\n",
              "      <th>1</th>\n",
              "      <td>http://web.archive.org/web/20220603005738/http...</td>\n",
              "      <td>amakuru/u-rwanda/article/minisitiri-w-intebe-y...</td>\n",
              "    </tr>\n",
              "    <tr>\n",
              "      <th>2</th>\n",
              "      <td>http://web.archive.org/web/20220603005738/http...</td>\n",
              "      <td>amakuru/article/can-2023-amavubi-yakuye-inota-...</td>\n",
              "    </tr>\n",
              "    <tr>\n",
              "      <th>3</th>\n",
              "      <td>http://web.archive.org/web/20220603005738/http...</td>\n",
              "      <td>amakuru/u-rwanda/article/intumwa-za-mozambique...</td>\n",
              "    </tr>\n",
              "    <tr>\n",
              "      <th>4</th>\n",
              "      <td>http://web.archive.org/web/20220603005738/http...</td>\n",
              "      <td>amakuru/u-rwanda/article/perezida-tshisekedi-y...</td>\n",
              "    </tr>\n",
              "    <tr>\n",
              "      <th>5</th>\n",
              "      <td>http://web.archive.org/web/20220603005738/http...</td>\n",
              "      <td>amakuru/u-rwanda/article/mu-2021-leta-yahombye...</td>\n",
              "    </tr>\n",
              "    <tr>\n",
              "      <th>6</th>\n",
              "      <td>http://web.archive.org/web/20220603005738/http...</td>\n",
              "      <td>amakuru/mu-mahanga/article/u-burusiya-bumaze-g...</td>\n",
              "    </tr>\n",
              "    <tr>\n",
              "      <th>7</th>\n",
              "      <td>http://web.archive.org/web/20220603005738/http...</td>\n",
              "      <td>imyemerere/muzika/article/ibitaravuzwe-kuri-ro...</td>\n",
              "    </tr>\n",
              "    <tr>\n",
              "      <th>8</th>\n",
              "      <td>http://web.archive.org/web/20220603005738/http...</td>\n",
              "      <td>amakuru/u-rwanda/article/rab-yahumurije-abatur...</td>\n",
              "    </tr>\n",
              "    <tr>\n",
              "      <th>9</th>\n",
              "      <td>http://web.archive.org/web/20220603005738/http...</td>\n",
              "      <td>amakuru/muri-afurika/article/eac-iri-hafi-guka...</td>\n",
              "    </tr>\n",
              "  </tbody>\n",
              "</table>\n",
              "</div>\n",
              "      <button class=\"colab-df-convert\" onclick=\"convertToInteractive('df-193a40a2-f324-4f87-906e-a0ce32598744')\"\n",
              "              title=\"Convert this dataframe to an interactive table.\"\n",
              "              style=\"display:none;\">\n",
              "        \n",
              "  <svg xmlns=\"http://www.w3.org/2000/svg\" height=\"24px\"viewBox=\"0 0 24 24\"\n",
              "       width=\"24px\">\n",
              "    <path d=\"M0 0h24v24H0V0z\" fill=\"none\"/>\n",
              "    <path d=\"M18.56 5.44l.94 2.06.94-2.06 2.06-.94-2.06-.94-.94-2.06-.94 2.06-2.06.94zm-11 1L8.5 8.5l.94-2.06 2.06-.94-2.06-.94L8.5 2.5l-.94 2.06-2.06.94zm10 10l.94 2.06.94-2.06 2.06-.94-2.06-.94-.94-2.06-.94 2.06-2.06.94z\"/><path d=\"M17.41 7.96l-1.37-1.37c-.4-.4-.92-.59-1.43-.59-.52 0-1.04.2-1.43.59L10.3 9.45l-7.72 7.72c-.78.78-.78 2.05 0 2.83L4 21.41c.39.39.9.59 1.41.59.51 0 1.02-.2 1.41-.59l7.78-7.78 2.81-2.81c.8-.78.8-2.07 0-2.86zM5.41 20L4 18.59l7.72-7.72 1.47 1.35L5.41 20z\"/>\n",
              "  </svg>\n",
              "      </button>\n",
              "      \n",
              "  <style>\n",
              "    .colab-df-container {\n",
              "      display:flex;\n",
              "      flex-wrap:wrap;\n",
              "      gap: 12px;\n",
              "    }\n",
              "\n",
              "    .colab-df-convert {\n",
              "      background-color: #E8F0FE;\n",
              "      border: none;\n",
              "      border-radius: 50%;\n",
              "      cursor: pointer;\n",
              "      display: none;\n",
              "      fill: #1967D2;\n",
              "      height: 32px;\n",
              "      padding: 0 0 0 0;\n",
              "      width: 32px;\n",
              "    }\n",
              "\n",
              "    .colab-df-convert:hover {\n",
              "      background-color: #E2EBFA;\n",
              "      box-shadow: 0px 1px 2px rgba(60, 64, 67, 0.3), 0px 1px 3px 1px rgba(60, 64, 67, 0.15);\n",
              "      fill: #174EA6;\n",
              "    }\n",
              "\n",
              "    [theme=dark] .colab-df-convert {\n",
              "      background-color: #3B4455;\n",
              "      fill: #D2E3FC;\n",
              "    }\n",
              "\n",
              "    [theme=dark] .colab-df-convert:hover {\n",
              "      background-color: #434B5C;\n",
              "      box-shadow: 0px 1px 3px 1px rgba(0, 0, 0, 0.15);\n",
              "      filter: drop-shadow(0px 1px 2px rgba(0, 0, 0, 0.3));\n",
              "      fill: #FFFFFF;\n",
              "    }\n",
              "  </style>\n",
              "\n",
              "      <script>\n",
              "        const buttonEl =\n",
              "          document.querySelector('#df-193a40a2-f324-4f87-906e-a0ce32598744 button.colab-df-convert');\n",
              "        buttonEl.style.display =\n",
              "          google.colab.kernel.accessAllowed ? 'block' : 'none';\n",
              "\n",
              "        async function convertToInteractive(key) {\n",
              "          const element = document.querySelector('#df-193a40a2-f324-4f87-906e-a0ce32598744');\n",
              "          const dataTable =\n",
              "            await google.colab.kernel.invokeFunction('convertToInteractive',\n",
              "                                                     [key], {});\n",
              "          if (!dataTable) return;\n",
              "\n",
              "          const docLinkHtml = 'Like what you see? Visit the ' +\n",
              "            '<a target=\"_blank\" href=https://colab.research.google.com/notebooks/data_table.ipynb>data table notebook</a>'\n",
              "            + ' to learn more about interactive tables.';\n",
              "          element.innerHTML = '';\n",
              "          dataTable['output_type'] = 'display_data';\n",
              "          await google.colab.output.renderOutput(dataTable, element);\n",
              "          const docLink = document.createElement('div');\n",
              "          docLink.innerHTML = docLinkHtml;\n",
              "          element.appendChild(docLink);\n",
              "        }\n",
              "      </script>\n",
              "    </div>\n",
              "  </div>\n",
              "  "
            ]
          },
          "metadata": {},
          "execution_count": 19
        }
      ],
      "source": [
        "df.head(10)"
      ],
      "id": "ZqZO4esonD7w"
    },
    {
      "cell_type": "code",
      "execution_count": 20,
      "metadata": {
        "colab": {
          "base_uri": "https://localhost:8080/",
          "height": 424
        },
        "id": "8IWxbIV7oVGz",
        "outputId": "1ed85b17-fe55-4cd3-d3fe-6c32e39f52e9"
      },
      "outputs": [
        {
          "output_type": "execute_result",
          "data": {
            "text/plain": [
              "                                                Prefix  \\\n",
              "0    http://web.archive.org/web/20220603005738/http...   \n",
              "1    http://web.archive.org/web/20220603005738/http...   \n",
              "2    http://web.archive.org/web/20220603005738/http...   \n",
              "3    http://web.archive.org/web/20220603005738/http...   \n",
              "4    http://web.archive.org/web/20220603005738/http...   \n",
              "..                                                 ...   \n",
              "797  http://web.archive.org/web/20220901235955/http...   \n",
              "799  http://web.archive.org/web/20220901235955/http...   \n",
              "800  http://web.archive.org/web/20220901235955/http...   \n",
              "801  http://web.archive.org/web/20220901235955/http...   \n",
              "802  http://web.archive.org/web/20220901235955/http...   \n",
              "\n",
              "                                                 Title  \n",
              "0    imyidagaduro/article/the-ben-yageze-i-kampala-...  \n",
              "1    amakuru/u-rwanda/article/minisitiri-w-intebe-y...  \n",
              "2    amakuru/article/can-2023-amavubi-yakuye-inota-...  \n",
              "3    amakuru/u-rwanda/article/intumwa-za-mozambique...  \n",
              "4    amakuru/u-rwanda/article/perezida-tshisekedi-y...  \n",
              "..                                                 ...  \n",
              "797  imyidagaduro/article/madamu-jeannette-kagame-y...  \n",
              "799  ikoranabuhanga/internet/article/abanyarwanda-b...  \n",
              "800  ikoranabuhanga/article/mu-2035-nta-modoka-ikor...  \n",
              "801  abantu/success-stories/article/iduka-ry-umuhin...  \n",
              "802     abantu/success-stories/article/ibiganza-bibona  \n",
              "\n",
              "[642 rows x 2 columns]"
            ],
            "text/html": [
              "\n",
              "  <div id=\"df-f0ae3181-8ca6-444c-a920-9c43d94613cd\">\n",
              "    <div class=\"colab-df-container\">\n",
              "      <div>\n",
              "<style scoped>\n",
              "    .dataframe tbody tr th:only-of-type {\n",
              "        vertical-align: middle;\n",
              "    }\n",
              "\n",
              "    .dataframe tbody tr th {\n",
              "        vertical-align: top;\n",
              "    }\n",
              "\n",
              "    .dataframe thead th {\n",
              "        text-align: right;\n",
              "    }\n",
              "</style>\n",
              "<table border=\"1\" class=\"dataframe\">\n",
              "  <thead>\n",
              "    <tr style=\"text-align: right;\">\n",
              "      <th></th>\n",
              "      <th>Prefix</th>\n",
              "      <th>Title</th>\n",
              "    </tr>\n",
              "  </thead>\n",
              "  <tbody>\n",
              "    <tr>\n",
              "      <th>0</th>\n",
              "      <td>http://web.archive.org/web/20220603005738/http...</td>\n",
              "      <td>imyidagaduro/article/the-ben-yageze-i-kampala-...</td>\n",
              "    </tr>\n",
              "    <tr>\n",
              "      <th>1</th>\n",
              "      <td>http://web.archive.org/web/20220603005738/http...</td>\n",
              "      <td>amakuru/u-rwanda/article/minisitiri-w-intebe-y...</td>\n",
              "    </tr>\n",
              "    <tr>\n",
              "      <th>2</th>\n",
              "      <td>http://web.archive.org/web/20220603005738/http...</td>\n",
              "      <td>amakuru/article/can-2023-amavubi-yakuye-inota-...</td>\n",
              "    </tr>\n",
              "    <tr>\n",
              "      <th>3</th>\n",
              "      <td>http://web.archive.org/web/20220603005738/http...</td>\n",
              "      <td>amakuru/u-rwanda/article/intumwa-za-mozambique...</td>\n",
              "    </tr>\n",
              "    <tr>\n",
              "      <th>4</th>\n",
              "      <td>http://web.archive.org/web/20220603005738/http...</td>\n",
              "      <td>amakuru/u-rwanda/article/perezida-tshisekedi-y...</td>\n",
              "    </tr>\n",
              "    <tr>\n",
              "      <th>...</th>\n",
              "      <td>...</td>\n",
              "      <td>...</td>\n",
              "    </tr>\n",
              "    <tr>\n",
              "      <th>797</th>\n",
              "      <td>http://web.archive.org/web/20220901235955/http...</td>\n",
              "      <td>imyidagaduro/article/madamu-jeannette-kagame-y...</td>\n",
              "    </tr>\n",
              "    <tr>\n",
              "      <th>799</th>\n",
              "      <td>http://web.archive.org/web/20220901235955/http...</td>\n",
              "      <td>ikoranabuhanga/internet/article/abanyarwanda-b...</td>\n",
              "    </tr>\n",
              "    <tr>\n",
              "      <th>800</th>\n",
              "      <td>http://web.archive.org/web/20220901235955/http...</td>\n",
              "      <td>ikoranabuhanga/article/mu-2035-nta-modoka-ikor...</td>\n",
              "    </tr>\n",
              "    <tr>\n",
              "      <th>801</th>\n",
              "      <td>http://web.archive.org/web/20220901235955/http...</td>\n",
              "      <td>abantu/success-stories/article/iduka-ry-umuhin...</td>\n",
              "    </tr>\n",
              "    <tr>\n",
              "      <th>802</th>\n",
              "      <td>http://web.archive.org/web/20220901235955/http...</td>\n",
              "      <td>abantu/success-stories/article/ibiganza-bibona</td>\n",
              "    </tr>\n",
              "  </tbody>\n",
              "</table>\n",
              "<p>642 rows × 2 columns</p>\n",
              "</div>\n",
              "      <button class=\"colab-df-convert\" onclick=\"convertToInteractive('df-f0ae3181-8ca6-444c-a920-9c43d94613cd')\"\n",
              "              title=\"Convert this dataframe to an interactive table.\"\n",
              "              style=\"display:none;\">\n",
              "        \n",
              "  <svg xmlns=\"http://www.w3.org/2000/svg\" height=\"24px\"viewBox=\"0 0 24 24\"\n",
              "       width=\"24px\">\n",
              "    <path d=\"M0 0h24v24H0V0z\" fill=\"none\"/>\n",
              "    <path d=\"M18.56 5.44l.94 2.06.94-2.06 2.06-.94-2.06-.94-.94-2.06-.94 2.06-2.06.94zm-11 1L8.5 8.5l.94-2.06 2.06-.94-2.06-.94L8.5 2.5l-.94 2.06-2.06.94zm10 10l.94 2.06.94-2.06 2.06-.94-2.06-.94-.94-2.06-.94 2.06-2.06.94z\"/><path d=\"M17.41 7.96l-1.37-1.37c-.4-.4-.92-.59-1.43-.59-.52 0-1.04.2-1.43.59L10.3 9.45l-7.72 7.72c-.78.78-.78 2.05 0 2.83L4 21.41c.39.39.9.59 1.41.59.51 0 1.02-.2 1.41-.59l7.78-7.78 2.81-2.81c.8-.78.8-2.07 0-2.86zM5.41 20L4 18.59l7.72-7.72 1.47 1.35L5.41 20z\"/>\n",
              "  </svg>\n",
              "      </button>\n",
              "      \n",
              "  <style>\n",
              "    .colab-df-container {\n",
              "      display:flex;\n",
              "      flex-wrap:wrap;\n",
              "      gap: 12px;\n",
              "    }\n",
              "\n",
              "    .colab-df-convert {\n",
              "      background-color: #E8F0FE;\n",
              "      border: none;\n",
              "      border-radius: 50%;\n",
              "      cursor: pointer;\n",
              "      display: none;\n",
              "      fill: #1967D2;\n",
              "      height: 32px;\n",
              "      padding: 0 0 0 0;\n",
              "      width: 32px;\n",
              "    }\n",
              "\n",
              "    .colab-df-convert:hover {\n",
              "      background-color: #E2EBFA;\n",
              "      box-shadow: 0px 1px 2px rgba(60, 64, 67, 0.3), 0px 1px 3px 1px rgba(60, 64, 67, 0.15);\n",
              "      fill: #174EA6;\n",
              "    }\n",
              "\n",
              "    [theme=dark] .colab-df-convert {\n",
              "      background-color: #3B4455;\n",
              "      fill: #D2E3FC;\n",
              "    }\n",
              "\n",
              "    [theme=dark] .colab-df-convert:hover {\n",
              "      background-color: #434B5C;\n",
              "      box-shadow: 0px 1px 3px 1px rgba(0, 0, 0, 0.15);\n",
              "      filter: drop-shadow(0px 1px 2px rgba(0, 0, 0, 0.3));\n",
              "      fill: #FFFFFF;\n",
              "    }\n",
              "  </style>\n",
              "\n",
              "      <script>\n",
              "        const buttonEl =\n",
              "          document.querySelector('#df-f0ae3181-8ca6-444c-a920-9c43d94613cd button.colab-df-convert');\n",
              "        buttonEl.style.display =\n",
              "          google.colab.kernel.accessAllowed ? 'block' : 'none';\n",
              "\n",
              "        async function convertToInteractive(key) {\n",
              "          const element = document.querySelector('#df-f0ae3181-8ca6-444c-a920-9c43d94613cd');\n",
              "          const dataTable =\n",
              "            await google.colab.kernel.invokeFunction('convertToInteractive',\n",
              "                                                     [key], {});\n",
              "          if (!dataTable) return;\n",
              "\n",
              "          const docLinkHtml = 'Like what you see? Visit the ' +\n",
              "            '<a target=\"_blank\" href=https://colab.research.google.com/notebooks/data_table.ipynb>data table notebook</a>'\n",
              "            + ' to learn more about interactive tables.';\n",
              "          element.innerHTML = '';\n",
              "          dataTable['output_type'] = 'display_data';\n",
              "          await google.colab.output.renderOutput(dataTable, element);\n",
              "          const docLink = document.createElement('div');\n",
              "          docLink.innerHTML = docLinkHtml;\n",
              "          element.appendChild(docLink);\n",
              "        }\n",
              "      </script>\n",
              "    </div>\n",
              "  </div>\n",
              "  "
            ]
          },
          "metadata": {},
          "execution_count": 20
        }
      ],
      "source": [
        "df.drop_duplicates(subset=['Title'])"
      ],
      "id": "8IWxbIV7oVGz"
    },
    {
      "cell_type": "code",
      "execution_count": 22,
      "metadata": {
        "id": "ysu73N6crER1"
      },
      "outputs": [],
      "source": [
        "content = requests.get(df['Prefix'][0]+df['Title'][0]).content\n",
        "raw_content =  BeautifulSoup(content, 'html.parser').find_all('div', class_=\"fulltext margintop10\")\n",
        "raw_content\n",
        "\n",
        "raw_content_ = (BeautifulSoup(str(raw_content)).find_all('p'))\n",
        "Cnts = []\n",
        "# for i in range(len(raw_content_)-1):\n",
        "#   y = open(path+'/text_files/file'+str(i+1)+'.txt', 'w',  encoding='utf-8')\n"
      ],
      "id": "ysu73N6crER1"
    },
    {
      "cell_type": "code",
      "execution_count": 23,
      "metadata": {
        "id": "Oj_Rvlhqo2fE"
      },
      "outputs": [],
      "source": [
        "def get_article_text(link):\n",
        "  content = requests.get(link).content\n",
        "  raw_content =  BeautifulSoup(content, 'html.parser').find_all('div', class_=\"fulltext margintop10\")\n",
        "  raw_content\n",
        "\n",
        "  raw_content_ = (BeautifulSoup(str(raw_content)).find_all('p'))\n",
        "  Cnts = []\n",
        "  for i in range(len(raw_content_)-1):\n",
        "    Cnts.append((raw_content_[i+1]).text)\n",
        "\n",
        "  return Cnts\n",
        "\n",
        "  \n"
      ],
      "id": "Oj_Rvlhqo2fE"
    },
    {
      "cell_type": "code",
      "execution_count": 24,
      "metadata": {
        "id": "E-1YBOXZ_N40"
      },
      "outputs": [],
      "source": [
        "r = []\n",
        "sample_df = df.head(50)\n",
        "for i in range(len(sample_df)):\n",
        "  d = {}\n",
        "  u = get_article_text(sample_df['Prefix'][i]+sample_df['Title'][i])\n",
        "  d['Links'] = sample_df['Prefix'][i]\n",
        "  d['Titles'] = sample_df['Title'][i]\n",
        "  d['Contents'] = u\n",
        "  r.append(d)\n",
        "  "
      ],
      "id": "E-1YBOXZ_N40"
    },
    {
      "cell_type": "code",
      "execution_count": 26,
      "metadata": {
        "id": "k3NR4jCOcoqb"
      },
      "outputs": [],
      "source": [
        "data = pd.DataFrame(r)"
      ],
      "id": "k3NR4jCOcoqb"
    },
    {
      "cell_type": "code",
      "source": [
        "data.head()"
      ],
      "metadata": {
        "id": "dxY6dTMzNdSz",
        "outputId": "0a5a295e-7fbe-4eed-d91b-d386135aed60",
        "colab": {
          "base_uri": "https://localhost:8080/",
          "height": 206
        }
      },
      "id": "dxY6dTMzNdSz",
      "execution_count": 27,
      "outputs": [
        {
          "output_type": "execute_result",
          "data": {
            "text/plain": [
              "                                               Links  \\\n",
              "0  http://web.archive.org/web/20220603005738/http...   \n",
              "1  http://web.archive.org/web/20220603005738/http...   \n",
              "2  http://web.archive.org/web/20220603005738/http...   \n",
              "3  http://web.archive.org/web/20220603005738/http...   \n",
              "4  http://web.archive.org/web/20220603005738/http...   \n",
              "\n",
              "                                              Titles  \\\n",
              "0  imyidagaduro/article/the-ben-yageze-i-kampala-...   \n",
              "1  amakuru/u-rwanda/article/minisitiri-w-intebe-y...   \n",
              "2  amakuru/article/can-2023-amavubi-yakuye-inota-...   \n",
              "3  amakuru/u-rwanda/article/intumwa-za-mozambique...   \n",
              "4  amakuru/u-rwanda/article/perezida-tshisekedi-y...   \n",
              "\n",
              "                                            Contents  \n",
              "0  [Mu kiganiro cyihariye yahaye IGIHE akigera ku...  \n",
              "1  [uri uyu wa Kane yafunguye ku mugaragaro Inama...  \n",
              "2  [Wari umukino w’umunsi wa mbere w’amatsinda yo...  \n",
              "3  [Mu ruzinduko rwabo mu Rwanda, iri tsinda riga...  \n",
              "4  [Abasirikare birukanywe barimo Lt Col Kibibi M...  "
            ],
            "text/html": [
              "\n",
              "  <div id=\"df-6bc13828-7e47-4e7f-b015-26ae60afe4e8\">\n",
              "    <div class=\"colab-df-container\">\n",
              "      <div>\n",
              "<style scoped>\n",
              "    .dataframe tbody tr th:only-of-type {\n",
              "        vertical-align: middle;\n",
              "    }\n",
              "\n",
              "    .dataframe tbody tr th {\n",
              "        vertical-align: top;\n",
              "    }\n",
              "\n",
              "    .dataframe thead th {\n",
              "        text-align: right;\n",
              "    }\n",
              "</style>\n",
              "<table border=\"1\" class=\"dataframe\">\n",
              "  <thead>\n",
              "    <tr style=\"text-align: right;\">\n",
              "      <th></th>\n",
              "      <th>Links</th>\n",
              "      <th>Titles</th>\n",
              "      <th>Contents</th>\n",
              "    </tr>\n",
              "  </thead>\n",
              "  <tbody>\n",
              "    <tr>\n",
              "      <th>0</th>\n",
              "      <td>http://web.archive.org/web/20220603005738/http...</td>\n",
              "      <td>imyidagaduro/article/the-ben-yageze-i-kampala-...</td>\n",
              "      <td>[Mu kiganiro cyihariye yahaye IGIHE akigera ku...</td>\n",
              "    </tr>\n",
              "    <tr>\n",
              "      <th>1</th>\n",
              "      <td>http://web.archive.org/web/20220603005738/http...</td>\n",
              "      <td>amakuru/u-rwanda/article/minisitiri-w-intebe-y...</td>\n",
              "      <td>[uri uyu wa Kane yafunguye ku mugaragaro Inama...</td>\n",
              "    </tr>\n",
              "    <tr>\n",
              "      <th>2</th>\n",
              "      <td>http://web.archive.org/web/20220603005738/http...</td>\n",
              "      <td>amakuru/article/can-2023-amavubi-yakuye-inota-...</td>\n",
              "      <td>[Wari umukino w’umunsi wa mbere w’amatsinda yo...</td>\n",
              "    </tr>\n",
              "    <tr>\n",
              "      <th>3</th>\n",
              "      <td>http://web.archive.org/web/20220603005738/http...</td>\n",
              "      <td>amakuru/u-rwanda/article/intumwa-za-mozambique...</td>\n",
              "      <td>[Mu ruzinduko rwabo mu Rwanda, iri tsinda riga...</td>\n",
              "    </tr>\n",
              "    <tr>\n",
              "      <th>4</th>\n",
              "      <td>http://web.archive.org/web/20220603005738/http...</td>\n",
              "      <td>amakuru/u-rwanda/article/perezida-tshisekedi-y...</td>\n",
              "      <td>[Abasirikare birukanywe barimo Lt Col Kibibi M...</td>\n",
              "    </tr>\n",
              "  </tbody>\n",
              "</table>\n",
              "</div>\n",
              "      <button class=\"colab-df-convert\" onclick=\"convertToInteractive('df-6bc13828-7e47-4e7f-b015-26ae60afe4e8')\"\n",
              "              title=\"Convert this dataframe to an interactive table.\"\n",
              "              style=\"display:none;\">\n",
              "        \n",
              "  <svg xmlns=\"http://www.w3.org/2000/svg\" height=\"24px\"viewBox=\"0 0 24 24\"\n",
              "       width=\"24px\">\n",
              "    <path d=\"M0 0h24v24H0V0z\" fill=\"none\"/>\n",
              "    <path d=\"M18.56 5.44l.94 2.06.94-2.06 2.06-.94-2.06-.94-.94-2.06-.94 2.06-2.06.94zm-11 1L8.5 8.5l.94-2.06 2.06-.94-2.06-.94L8.5 2.5l-.94 2.06-2.06.94zm10 10l.94 2.06.94-2.06 2.06-.94-2.06-.94-.94-2.06-.94 2.06-2.06.94z\"/><path d=\"M17.41 7.96l-1.37-1.37c-.4-.4-.92-.59-1.43-.59-.52 0-1.04.2-1.43.59L10.3 9.45l-7.72 7.72c-.78.78-.78 2.05 0 2.83L4 21.41c.39.39.9.59 1.41.59.51 0 1.02-.2 1.41-.59l7.78-7.78 2.81-2.81c.8-.78.8-2.07 0-2.86zM5.41 20L4 18.59l7.72-7.72 1.47 1.35L5.41 20z\"/>\n",
              "  </svg>\n",
              "      </button>\n",
              "      \n",
              "  <style>\n",
              "    .colab-df-container {\n",
              "      display:flex;\n",
              "      flex-wrap:wrap;\n",
              "      gap: 12px;\n",
              "    }\n",
              "\n",
              "    .colab-df-convert {\n",
              "      background-color: #E8F0FE;\n",
              "      border: none;\n",
              "      border-radius: 50%;\n",
              "      cursor: pointer;\n",
              "      display: none;\n",
              "      fill: #1967D2;\n",
              "      height: 32px;\n",
              "      padding: 0 0 0 0;\n",
              "      width: 32px;\n",
              "    }\n",
              "\n",
              "    .colab-df-convert:hover {\n",
              "      background-color: #E2EBFA;\n",
              "      box-shadow: 0px 1px 2px rgba(60, 64, 67, 0.3), 0px 1px 3px 1px rgba(60, 64, 67, 0.15);\n",
              "      fill: #174EA6;\n",
              "    }\n",
              "\n",
              "    [theme=dark] .colab-df-convert {\n",
              "      background-color: #3B4455;\n",
              "      fill: #D2E3FC;\n",
              "    }\n",
              "\n",
              "    [theme=dark] .colab-df-convert:hover {\n",
              "      background-color: #434B5C;\n",
              "      box-shadow: 0px 1px 3px 1px rgba(0, 0, 0, 0.15);\n",
              "      filter: drop-shadow(0px 1px 2px rgba(0, 0, 0, 0.3));\n",
              "      fill: #FFFFFF;\n",
              "    }\n",
              "  </style>\n",
              "\n",
              "      <script>\n",
              "        const buttonEl =\n",
              "          document.querySelector('#df-6bc13828-7e47-4e7f-b015-26ae60afe4e8 button.colab-df-convert');\n",
              "        buttonEl.style.display =\n",
              "          google.colab.kernel.accessAllowed ? 'block' : 'none';\n",
              "\n",
              "        async function convertToInteractive(key) {\n",
              "          const element = document.querySelector('#df-6bc13828-7e47-4e7f-b015-26ae60afe4e8');\n",
              "          const dataTable =\n",
              "            await google.colab.kernel.invokeFunction('convertToInteractive',\n",
              "                                                     [key], {});\n",
              "          if (!dataTable) return;\n",
              "\n",
              "          const docLinkHtml = 'Like what you see? Visit the ' +\n",
              "            '<a target=\"_blank\" href=https://colab.research.google.com/notebooks/data_table.ipynb>data table notebook</a>'\n",
              "            + ' to learn more about interactive tables.';\n",
              "          element.innerHTML = '';\n",
              "          dataTable['output_type'] = 'display_data';\n",
              "          await google.colab.output.renderOutput(dataTable, element);\n",
              "          const docLink = document.createElement('div');\n",
              "          docLink.innerHTML = docLinkHtml;\n",
              "          element.appendChild(docLink);\n",
              "        }\n",
              "      </script>\n",
              "    </div>\n",
              "  </div>\n",
              "  "
            ]
          },
          "metadata": {},
          "execution_count": 27
        }
      ]
    }
  ],
  "metadata": {
    "colab": {
      "provenance": [],
      "include_colab_link": true
    },
    "kernelspec": {
      "display_name": "Python 3 (ipykernel)",
      "language": "python",
      "name": "python3"
    },
    "language_info": {
      "codemirror_mode": {
        "name": "ipython",
        "version": 3
      },
      "file_extension": ".py",
      "mimetype": "text/x-python",
      "name": "python",
      "nbconvert_exporter": "python",
      "pygments_lexer": "ipython3",
      "version": "3.9.7"
    }
  },
  "nbformat": 4,
  "nbformat_minor": 5
}