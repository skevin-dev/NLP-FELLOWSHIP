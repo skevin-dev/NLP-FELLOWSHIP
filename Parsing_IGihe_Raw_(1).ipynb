{
  "cells": [
    {
      "cell_type": "markdown",
      "metadata": {
        "id": "view-in-github",
        "colab_type": "text"
      },
      "source": [
        "<a href=\"https://colab.research.google.com/github/skevin-dev/NLP-FELLOWSHIP/blob/week1/Parsing_IGihe_Raw_(1).ipynb\" target=\"_parent\"><img src=\"https://colab.research.google.com/assets/colab-badge.svg\" alt=\"Open In Colab\"/></a>"
      ]
    },
    {
      "cell_type": "code",
      "execution_count": 1,
      "metadata": {
        "id": "e6866dda"
      },
      "outputs": [],
      "source": [
        "\n",
        "import requests\n",
        "\n",
        "from bs4 import BeautifulSoup\n",
        "import pandas as pd"
      ],
      "id": "e6866dda"
    },
    {
      "cell_type": "code",
      "execution_count": 2,
      "metadata": {
        "id": "c9cb3f86"
      },
      "outputs": [],
      "source": [
        "#Get all the available captures since jan-2022"
      ],
      "id": "c9cb3f86"
    },
    {
      "cell_type": "code",
      "execution_count": 3,
      "metadata": {
        "id": "805c52bc"
      },
      "outputs": [],
      "source": [
        "links =  requests.get('http://archive.org/wayback/available?url=igihe.com&timestamp=20220123')"
      ],
      "id": "805c52bc"
    },
    {
      "cell_type": "code",
      "execution_count": 4,
      "metadata": {
        "colab": {
          "base_uri": "https://localhost:8080/"
        },
        "id": "9bee00f7",
        "outputId": "9fe2079b-c323-43e1-a89e-e5ee26438f58"
      },
      "outputs": [
        {
          "output_type": "execute_result",
          "data": {
            "text/plain": [
              "{'url': 'igihe.com',\n",
              " 'archived_snapshots': {'closest': {'status': '200',\n",
              "   'available': True,\n",
              "   'url': 'http://web.archive.org/web/20220123092659/https://igihe.com/',\n",
              "   'timestamp': '20220123092659'}},\n",
              " 'timestamp': '20220123'}"
            ]
          },
          "metadata": {},
          "execution_count": 4
        }
      ],
      "source": [
        "links.json()"
      ],
      "id": "9bee00f7"
    },
    {
      "cell_type": "code",
      "execution_count": 5,
      "metadata": {
        "id": "c80e0c01",
        "scrolled": true
      },
      "outputs": [],
      "source": [
        "snaps = []\n",
        "err = []\n",
        "for month in range(10):\n",
        "    for day in range(31):\n",
        "        link = requests.get('http://archive.org/wayback/available?url=igihe.com&timestamp=2022{:02d}{:02d}'.format(month, day))\n",
        "        try:\n",
        "            if link.json()['archived_snapshots']['closest']['available']:\n",
        "                snaps.append(link.json()['archived_snapshots']['closest']['url'])\n",
        "        except KeyError:\n",
        "            err.append(link.json())\n",
        "            break"
      ],
      "id": "c80e0c01"
    },
    {
      "cell_type": "code",
      "execution_count": 6,
      "metadata": {
        "id": "bvPFkXLy7Gt-"
      },
      "outputs": [],
      "source": [
        "snaps_r  = set(snaps)"
      ],
      "id": "bvPFkXLy7Gt-"
    },
    {
      "cell_type": "code",
      "execution_count": 7,
      "metadata": {
        "colab": {
          "base_uri": "https://localhost:8080/"
        },
        "id": "e0DZ-ggp798R",
        "outputId": "0d881fb5-b32c-4fec-e8be-d366a430ce1c"
      },
      "outputs": [
        {
          "output_type": "execute_result",
          "data": {
            "text/plain": [
              "10"
            ]
          },
          "metadata": {},
          "execution_count": 7
        }
      ],
      "source": [
        "len(snaps_r)"
      ],
      "id": "e0DZ-ggp798R"
    },
    {
      "cell_type": "code",
      "execution_count": 8,
      "metadata": {
        "id": "56WvM9O8CewB"
      },
      "outputs": [],
      "source": [
        "snap_r = list(snaps_r)"
      ],
      "id": "56WvM9O8CewB"
    },
    {
      "cell_type": "code",
      "execution_count": 9,
      "metadata": {
        "colab": {
          "base_uri": "https://localhost:8080/"
        },
        "id": "BaUACdbdDCdD",
        "outputId": "648163c2-74c4-4143-f056-99736cd4d114"
      },
      "outputs": [
        {
          "output_type": "execute_result",
          "data": {
            "text/plain": [
              "10"
            ]
          },
          "metadata": {},
          "execution_count": 9
        }
      ],
      "source": [
        "len(snap_r)"
      ],
      "id": "BaUACdbdDCdD"
    },
    {
      "cell_type": "code",
      "execution_count": 10,
      "metadata": {
        "colab": {
          "base_uri": "https://localhost:8080/",
          "height": 35
        },
        "id": "RBIVQxEPYltW",
        "outputId": "17bf77e6-e9df-4ca9-e810-39216fd94cb0"
      },
      "outputs": [
        {
          "output_type": "execute_result",
          "data": {
            "text/plain": [
              "'http://web.archive.org/web/20220901235955/https://www.igihe.com/'"
            ],
            "application/vnd.google.colaboratory.intrinsic+json": {
              "type": "string"
            }
          },
          "metadata": {},
          "execution_count": 10
        }
      ],
      "source": [
        "str(snap_r[0])"
      ],
      "id": "RBIVQxEPYltW"
    },
    {
      "cell_type": "code",
      "execution_count": 11,
      "metadata": {
        "id": "eKW-2RmtDUUv"
      },
      "outputs": [],
      "source": [
        "b = requests.get(url=str(snap_r[0]))"
      ],
      "id": "eKW-2RmtDUUv"
    },
    {
      "cell_type": "code",
      "source": [
        "\n",
        "links_art = []\n",
        "\n",
        "for lin in snaps_r:\n",
        "  content = requests.get(url=lin).content\n",
        "  soup =  BeautifulSoup(content, \"html.parser\")\n",
        "  articles = soup.find_all('span', class_=\"homenews-title\")\n",
        "  links_art.append(articles)"
      ],
      "metadata": {
        "id": "XatE_lKxC3BG"
      },
      "id": "XatE_lKxC3BG",
      "execution_count": 12,
      "outputs": []
    },
    {
      "cell_type": "code",
      "execution_count": 13,
      "metadata": {
        "colab": {
          "base_uri": "https://localhost:8080/",
          "height": 35
        },
        "id": "5X-tf-97HqZq",
        "outputId": "6592832e-dc66-46cf-ac63-06ae7d0a203b"
      },
      "outputs": [
        {
          "output_type": "execute_result",
          "data": {
            "text/plain": [
              "'imyidagaduro/article/aurore-kayibanda-yijihije-imyaka-10-ishize-yambwitse-ikamba-rya-miss-rwanda'"
            ],
            "application/vnd.google.colaboratory.intrinsic+json": {
              "type": "string"
            }
          },
          "metadata": {},
          "execution_count": 13
        }
      ],
      "source": [
        "links_art[0][0].find('a')['href']"
      ],
      "id": "5X-tf-97HqZq"
    },
    {
      "cell_type": "code",
      "execution_count": 14,
      "metadata": {
        "colab": {
          "base_uri": "https://localhost:8080/",
          "height": 35
        },
        "id": "aZfTEsJVd872",
        "outputId": "d79142f9-6c64-4837-c869-4aefdb145946"
      },
      "outputs": [
        {
          "output_type": "execute_result",
          "data": {
            "text/plain": [
              "'http://web.archive.org/web/20220901235955/https://www.igihe.com/'"
            ],
            "application/vnd.google.colaboratory.intrinsic+json": {
              "type": "string"
            }
          },
          "metadata": {},
          "execution_count": 14
        }
      ],
      "source": [
        "list(snaps_r)[0]"
      ],
      "id": "aZfTEsJVd872"
    },
    {
      "cell_type": "code",
      "execution_count": 15,
      "metadata": {
        "id": "FZ-U9WKMadtF"
      },
      "outputs": [],
      "source": [
        "#Actual link\n",
        "wayback_link = []\n",
        "href_link = []\n",
        "\n",
        "#Loop all the 184 snapshots\n",
        "for index, snapshot in enumerate(list(snaps_r)):\n",
        "  #In each title assign it's snapshop prefix link\n",
        "  for title in links_art[index]:\n",
        "    wayback_link.append(snapshot)\n",
        "    href_link.append(str(title.find('a')['href']))"
      ],
      "id": "FZ-U9WKMadtF"
    },
    {
      "cell_type": "code",
      "execution_count": 16,
      "metadata": {
        "colab": {
          "base_uri": "https://localhost:8080/"
        },
        "id": "945pI3xxfpKd",
        "outputId": "49f4698a-cf8f-4cb3-8894-c50eb2c73412"
      },
      "outputs": [
        {
          "output_type": "execute_result",
          "data": {
            "text/plain": [
              "730"
            ]
          },
          "metadata": {},
          "execution_count": 16
        }
      ],
      "source": [
        "len(href_link)"
      ],
      "id": "945pI3xxfpKd"
    },
    {
      "cell_type": "code",
      "execution_count": 17,
      "metadata": {
        "id": "KfDVPDvdmTV8"
      },
      "outputs": [],
      "source": [
        "df = pd.DataFrame(list(zip(wayback_link, href_link)), columns=['Prefix', 'Title'])"
      ],
      "id": "KfDVPDvdmTV8"
    },
    {
      "cell_type": "code",
      "execution_count": 18,
      "metadata": {
        "colab": {
          "base_uri": "https://localhost:8080/",
          "height": 175
        },
        "id": "OYwzOppmoWWy",
        "outputId": "34782138-2689-45fd-88ef-7a19aaf60a34"
      },
      "outputs": [
        {
          "output_type": "execute_result",
          "data": {
            "text/plain": [
              "                                                   Prefix  \\\n",
              "count                                                 730   \n",
              "unique                                                 10   \n",
              "top     http://web.archive.org/web/20220901235955/http...   \n",
              "freq                                                   73   \n",
              "\n",
              "                                                    Title  \n",
              "count                                                 730  \n",
              "unique                                                500  \n",
              "top     imyidagaduro/article/aba-djs-bo-mu-rwanda-n-ab...  \n",
              "freq                                                    4  "
            ],
            "text/html": [
              "\n",
              "  <div id=\"df-d0331ef3-24be-42ef-b403-fa2ba976fcae\">\n",
              "    <div class=\"colab-df-container\">\n",
              "      <div>\n",
              "<style scoped>\n",
              "    .dataframe tbody tr th:only-of-type {\n",
              "        vertical-align: middle;\n",
              "    }\n",
              "\n",
              "    .dataframe tbody tr th {\n",
              "        vertical-align: top;\n",
              "    }\n",
              "\n",
              "    .dataframe thead th {\n",
              "        text-align: right;\n",
              "    }\n",
              "</style>\n",
              "<table border=\"1\" class=\"dataframe\">\n",
              "  <thead>\n",
              "    <tr style=\"text-align: right;\">\n",
              "      <th></th>\n",
              "      <th>Prefix</th>\n",
              "      <th>Title</th>\n",
              "    </tr>\n",
              "  </thead>\n",
              "  <tbody>\n",
              "    <tr>\n",
              "      <th>count</th>\n",
              "      <td>730</td>\n",
              "      <td>730</td>\n",
              "    </tr>\n",
              "    <tr>\n",
              "      <th>unique</th>\n",
              "      <td>10</td>\n",
              "      <td>500</td>\n",
              "    </tr>\n",
              "    <tr>\n",
              "      <th>top</th>\n",
              "      <td>http://web.archive.org/web/20220901235955/http...</td>\n",
              "      <td>imyidagaduro/article/aba-djs-bo-mu-rwanda-n-ab...</td>\n",
              "    </tr>\n",
              "    <tr>\n",
              "      <th>freq</th>\n",
              "      <td>73</td>\n",
              "      <td>4</td>\n",
              "    </tr>\n",
              "  </tbody>\n",
              "</table>\n",
              "</div>\n",
              "      <button class=\"colab-df-convert\" onclick=\"convertToInteractive('df-d0331ef3-24be-42ef-b403-fa2ba976fcae')\"\n",
              "              title=\"Convert this dataframe to an interactive table.\"\n",
              "              style=\"display:none;\">\n",
              "        \n",
              "  <svg xmlns=\"http://www.w3.org/2000/svg\" height=\"24px\"viewBox=\"0 0 24 24\"\n",
              "       width=\"24px\">\n",
              "    <path d=\"M0 0h24v24H0V0z\" fill=\"none\"/>\n",
              "    <path d=\"M18.56 5.44l.94 2.06.94-2.06 2.06-.94-2.06-.94-.94-2.06-.94 2.06-2.06.94zm-11 1L8.5 8.5l.94-2.06 2.06-.94-2.06-.94L8.5 2.5l-.94 2.06-2.06.94zm10 10l.94 2.06.94-2.06 2.06-.94-2.06-.94-.94-2.06-.94 2.06-2.06.94z\"/><path d=\"M17.41 7.96l-1.37-1.37c-.4-.4-.92-.59-1.43-.59-.52 0-1.04.2-1.43.59L10.3 9.45l-7.72 7.72c-.78.78-.78 2.05 0 2.83L4 21.41c.39.39.9.59 1.41.59.51 0 1.02-.2 1.41-.59l7.78-7.78 2.81-2.81c.8-.78.8-2.07 0-2.86zM5.41 20L4 18.59l7.72-7.72 1.47 1.35L5.41 20z\"/>\n",
              "  </svg>\n",
              "      </button>\n",
              "      \n",
              "  <style>\n",
              "    .colab-df-container {\n",
              "      display:flex;\n",
              "      flex-wrap:wrap;\n",
              "      gap: 12px;\n",
              "    }\n",
              "\n",
              "    .colab-df-convert {\n",
              "      background-color: #E8F0FE;\n",
              "      border: none;\n",
              "      border-radius: 50%;\n",
              "      cursor: pointer;\n",
              "      display: none;\n",
              "      fill: #1967D2;\n",
              "      height: 32px;\n",
              "      padding: 0 0 0 0;\n",
              "      width: 32px;\n",
              "    }\n",
              "\n",
              "    .colab-df-convert:hover {\n",
              "      background-color: #E2EBFA;\n",
              "      box-shadow: 0px 1px 2px rgba(60, 64, 67, 0.3), 0px 1px 3px 1px rgba(60, 64, 67, 0.15);\n",
              "      fill: #174EA6;\n",
              "    }\n",
              "\n",
              "    [theme=dark] .colab-df-convert {\n",
              "      background-color: #3B4455;\n",
              "      fill: #D2E3FC;\n",
              "    }\n",
              "\n",
              "    [theme=dark] .colab-df-convert:hover {\n",
              "      background-color: #434B5C;\n",
              "      box-shadow: 0px 1px 3px 1px rgba(0, 0, 0, 0.15);\n",
              "      filter: drop-shadow(0px 1px 2px rgba(0, 0, 0, 0.3));\n",
              "      fill: #FFFFFF;\n",
              "    }\n",
              "  </style>\n",
              "\n",
              "      <script>\n",
              "        const buttonEl =\n",
              "          document.querySelector('#df-d0331ef3-24be-42ef-b403-fa2ba976fcae button.colab-df-convert');\n",
              "        buttonEl.style.display =\n",
              "          google.colab.kernel.accessAllowed ? 'block' : 'none';\n",
              "\n",
              "        async function convertToInteractive(key) {\n",
              "          const element = document.querySelector('#df-d0331ef3-24be-42ef-b403-fa2ba976fcae');\n",
              "          const dataTable =\n",
              "            await google.colab.kernel.invokeFunction('convertToInteractive',\n",
              "                                                     [key], {});\n",
              "          if (!dataTable) return;\n",
              "\n",
              "          const docLinkHtml = 'Like what you see? Visit the ' +\n",
              "            '<a target=\"_blank\" href=https://colab.research.google.com/notebooks/data_table.ipynb>data table notebook</a>'\n",
              "            + ' to learn more about interactive tables.';\n",
              "          element.innerHTML = '';\n",
              "          dataTable['output_type'] = 'display_data';\n",
              "          await google.colab.output.renderOutput(dataTable, element);\n",
              "          const docLink = document.createElement('div');\n",
              "          docLink.innerHTML = docLinkHtml;\n",
              "          element.appendChild(docLink);\n",
              "        }\n",
              "      </script>\n",
              "    </div>\n",
              "  </div>\n",
              "  "
            ]
          },
          "metadata": {},
          "execution_count": 18
        }
      ],
      "source": [
        "df.describe()"
      ],
      "id": "OYwzOppmoWWy"
    },
    {
      "cell_type": "code",
      "execution_count": 19,
      "metadata": {
        "colab": {
          "base_uri": "https://localhost:8080/",
          "height": 363
        },
        "id": "ZqZO4esonD7w",
        "outputId": "a94c79e8-162b-4d9d-c0c5-a4d52321d1ff"
      },
      "outputs": [
        {
          "output_type": "execute_result",
          "data": {
            "text/plain": [
              "                                              Prefix  \\\n",
              "0  http://web.archive.org/web/20220901235955/http...   \n",
              "1  http://web.archive.org/web/20220901235955/http...   \n",
              "2  http://web.archive.org/web/20220901235955/http...   \n",
              "3  http://web.archive.org/web/20220901235955/http...   \n",
              "4  http://web.archive.org/web/20220901235955/http...   \n",
              "5  http://web.archive.org/web/20220901235955/http...   \n",
              "6  http://web.archive.org/web/20220901235955/http...   \n",
              "7  http://web.archive.org/web/20220901235955/http...   \n",
              "8  http://web.archive.org/web/20220901235955/http...   \n",
              "9  http://web.archive.org/web/20220901235955/http...   \n",
              "\n",
              "                                               Title  \n",
              "0  imyidagaduro/article/aurore-kayibanda-yijihije...  \n",
              "1  amakuru/u-rwanda/article/u-rwanda-rwashimiwe-i...  \n",
              "2  imyidagaduro/article/aba-djs-bo-mu-rwanda-n-ab...  \n",
              "3  amakuru/mu-mahanga/article/u-buhinde-bwamurits...  \n",
              "4  amakuru/muri-afurika/article/ingabo-za-eritrea...  \n",
              "5  ikoranabuhanga/article/abakoresha-spenn-mu-rwa...  \n",
              "6  imikino/volleyball/article/volleyball-rra-vc-y...  \n",
              "7  ubukungu/article/iburengerazuba-hubatswe-ibiko...  \n",
              "8  amakuru/utuntu-n-utundi/article/burundi-uwiyit...  \n",
              "9  imikino/basketball/article/haracyibazwa-ikomez...  "
            ],
            "text/html": [
              "\n",
              "  <div id=\"df-7ae15470-f445-4198-b3e5-eaad8583110d\">\n",
              "    <div class=\"colab-df-container\">\n",
              "      <div>\n",
              "<style scoped>\n",
              "    .dataframe tbody tr th:only-of-type {\n",
              "        vertical-align: middle;\n",
              "    }\n",
              "\n",
              "    .dataframe tbody tr th {\n",
              "        vertical-align: top;\n",
              "    }\n",
              "\n",
              "    .dataframe thead th {\n",
              "        text-align: right;\n",
              "    }\n",
              "</style>\n",
              "<table border=\"1\" class=\"dataframe\">\n",
              "  <thead>\n",
              "    <tr style=\"text-align: right;\">\n",
              "      <th></th>\n",
              "      <th>Prefix</th>\n",
              "      <th>Title</th>\n",
              "    </tr>\n",
              "  </thead>\n",
              "  <tbody>\n",
              "    <tr>\n",
              "      <th>0</th>\n",
              "      <td>http://web.archive.org/web/20220901235955/http...</td>\n",
              "      <td>imyidagaduro/article/aurore-kayibanda-yijihije...</td>\n",
              "    </tr>\n",
              "    <tr>\n",
              "      <th>1</th>\n",
              "      <td>http://web.archive.org/web/20220901235955/http...</td>\n",
              "      <td>amakuru/u-rwanda/article/u-rwanda-rwashimiwe-i...</td>\n",
              "    </tr>\n",
              "    <tr>\n",
              "      <th>2</th>\n",
              "      <td>http://web.archive.org/web/20220901235955/http...</td>\n",
              "      <td>imyidagaduro/article/aba-djs-bo-mu-rwanda-n-ab...</td>\n",
              "    </tr>\n",
              "    <tr>\n",
              "      <th>3</th>\n",
              "      <td>http://web.archive.org/web/20220901235955/http...</td>\n",
              "      <td>amakuru/mu-mahanga/article/u-buhinde-bwamurits...</td>\n",
              "    </tr>\n",
              "    <tr>\n",
              "      <th>4</th>\n",
              "      <td>http://web.archive.org/web/20220901235955/http...</td>\n",
              "      <td>amakuru/muri-afurika/article/ingabo-za-eritrea...</td>\n",
              "    </tr>\n",
              "    <tr>\n",
              "      <th>5</th>\n",
              "      <td>http://web.archive.org/web/20220901235955/http...</td>\n",
              "      <td>ikoranabuhanga/article/abakoresha-spenn-mu-rwa...</td>\n",
              "    </tr>\n",
              "    <tr>\n",
              "      <th>6</th>\n",
              "      <td>http://web.archive.org/web/20220901235955/http...</td>\n",
              "      <td>imikino/volleyball/article/volleyball-rra-vc-y...</td>\n",
              "    </tr>\n",
              "    <tr>\n",
              "      <th>7</th>\n",
              "      <td>http://web.archive.org/web/20220901235955/http...</td>\n",
              "      <td>ubukungu/article/iburengerazuba-hubatswe-ibiko...</td>\n",
              "    </tr>\n",
              "    <tr>\n",
              "      <th>8</th>\n",
              "      <td>http://web.archive.org/web/20220901235955/http...</td>\n",
              "      <td>amakuru/utuntu-n-utundi/article/burundi-uwiyit...</td>\n",
              "    </tr>\n",
              "    <tr>\n",
              "      <th>9</th>\n",
              "      <td>http://web.archive.org/web/20220901235955/http...</td>\n",
              "      <td>imikino/basketball/article/haracyibazwa-ikomez...</td>\n",
              "    </tr>\n",
              "  </tbody>\n",
              "</table>\n",
              "</div>\n",
              "      <button class=\"colab-df-convert\" onclick=\"convertToInteractive('df-7ae15470-f445-4198-b3e5-eaad8583110d')\"\n",
              "              title=\"Convert this dataframe to an interactive table.\"\n",
              "              style=\"display:none;\">\n",
              "        \n",
              "  <svg xmlns=\"http://www.w3.org/2000/svg\" height=\"24px\"viewBox=\"0 0 24 24\"\n",
              "       width=\"24px\">\n",
              "    <path d=\"M0 0h24v24H0V0z\" fill=\"none\"/>\n",
              "    <path d=\"M18.56 5.44l.94 2.06.94-2.06 2.06-.94-2.06-.94-.94-2.06-.94 2.06-2.06.94zm-11 1L8.5 8.5l.94-2.06 2.06-.94-2.06-.94L8.5 2.5l-.94 2.06-2.06.94zm10 10l.94 2.06.94-2.06 2.06-.94-2.06-.94-.94-2.06-.94 2.06-2.06.94z\"/><path d=\"M17.41 7.96l-1.37-1.37c-.4-.4-.92-.59-1.43-.59-.52 0-1.04.2-1.43.59L10.3 9.45l-7.72 7.72c-.78.78-.78 2.05 0 2.83L4 21.41c.39.39.9.59 1.41.59.51 0 1.02-.2 1.41-.59l7.78-7.78 2.81-2.81c.8-.78.8-2.07 0-2.86zM5.41 20L4 18.59l7.72-7.72 1.47 1.35L5.41 20z\"/>\n",
              "  </svg>\n",
              "      </button>\n",
              "      \n",
              "  <style>\n",
              "    .colab-df-container {\n",
              "      display:flex;\n",
              "      flex-wrap:wrap;\n",
              "      gap: 12px;\n",
              "    }\n",
              "\n",
              "    .colab-df-convert {\n",
              "      background-color: #E8F0FE;\n",
              "      border: none;\n",
              "      border-radius: 50%;\n",
              "      cursor: pointer;\n",
              "      display: none;\n",
              "      fill: #1967D2;\n",
              "      height: 32px;\n",
              "      padding: 0 0 0 0;\n",
              "      width: 32px;\n",
              "    }\n",
              "\n",
              "    .colab-df-convert:hover {\n",
              "      background-color: #E2EBFA;\n",
              "      box-shadow: 0px 1px 2px rgba(60, 64, 67, 0.3), 0px 1px 3px 1px rgba(60, 64, 67, 0.15);\n",
              "      fill: #174EA6;\n",
              "    }\n",
              "\n",
              "    [theme=dark] .colab-df-convert {\n",
              "      background-color: #3B4455;\n",
              "      fill: #D2E3FC;\n",
              "    }\n",
              "\n",
              "    [theme=dark] .colab-df-convert:hover {\n",
              "      background-color: #434B5C;\n",
              "      box-shadow: 0px 1px 3px 1px rgba(0, 0, 0, 0.15);\n",
              "      filter: drop-shadow(0px 1px 2px rgba(0, 0, 0, 0.3));\n",
              "      fill: #FFFFFF;\n",
              "    }\n",
              "  </style>\n",
              "\n",
              "      <script>\n",
              "        const buttonEl =\n",
              "          document.querySelector('#df-7ae15470-f445-4198-b3e5-eaad8583110d button.colab-df-convert');\n",
              "        buttonEl.style.display =\n",
              "          google.colab.kernel.accessAllowed ? 'block' : 'none';\n",
              "\n",
              "        async function convertToInteractive(key) {\n",
              "          const element = document.querySelector('#df-7ae15470-f445-4198-b3e5-eaad8583110d');\n",
              "          const dataTable =\n",
              "            await google.colab.kernel.invokeFunction('convertToInteractive',\n",
              "                                                     [key], {});\n",
              "          if (!dataTable) return;\n",
              "\n",
              "          const docLinkHtml = 'Like what you see? Visit the ' +\n",
              "            '<a target=\"_blank\" href=https://colab.research.google.com/notebooks/data_table.ipynb>data table notebook</a>'\n",
              "            + ' to learn more about interactive tables.';\n",
              "          element.innerHTML = '';\n",
              "          dataTable['output_type'] = 'display_data';\n",
              "          await google.colab.output.renderOutput(dataTable, element);\n",
              "          const docLink = document.createElement('div');\n",
              "          docLink.innerHTML = docLinkHtml;\n",
              "          element.appendChild(docLink);\n",
              "        }\n",
              "      </script>\n",
              "    </div>\n",
              "  </div>\n",
              "  "
            ]
          },
          "metadata": {},
          "execution_count": 19
        }
      ],
      "source": [
        "df.head(10)"
      ],
      "id": "ZqZO4esonD7w"
    },
    {
      "cell_type": "code",
      "execution_count": 20,
      "metadata": {
        "colab": {
          "base_uri": "https://localhost:8080/",
          "height": 424
        },
        "id": "8IWxbIV7oVGz",
        "outputId": "ff7f5e6e-053f-4995-f64f-722be7d61e51"
      },
      "outputs": [
        {
          "output_type": "execute_result",
          "data": {
            "text/plain": [
              "                                                Prefix  \\\n",
              "0    http://web.archive.org/web/20220901235955/http...   \n",
              "1    http://web.archive.org/web/20220901235955/http...   \n",
              "2    http://web.archive.org/web/20220901235955/http...   \n",
              "3    http://web.archive.org/web/20220901235955/http...   \n",
              "4    http://web.archive.org/web/20220901235955/http...   \n",
              "..                                                 ...   \n",
              "705  http://web.archive.org/web/20220804191301/http...   \n",
              "713  http://web.archive.org/web/20220804191301/http...   \n",
              "717  http://web.archive.org/web/20220804191301/http...   \n",
              "722  http://web.archive.org/web/20220804191301/http...   \n",
              "723  http://web.archive.org/web/20220804191301/http...   \n",
              "\n",
              "                                                 Title  \n",
              "0    imyidagaduro/article/aurore-kayibanda-yijihije...  \n",
              "1    amakuru/u-rwanda/article/u-rwanda-rwashimiwe-i...  \n",
              "2    imyidagaduro/article/aba-djs-bo-mu-rwanda-n-ab...  \n",
              "3    amakuru/mu-mahanga/article/u-buhinde-bwamurits...  \n",
              "4    amakuru/muri-afurika/article/ingabo-za-eritrea...  \n",
              "..                                                 ...  \n",
              "705  amakuru/mu-mahanga/article/pena-nieto-wabaye-p...  \n",
              "713  ubukungu/amabanki/article/nyuma-yo-kugura-bpr-...  \n",
              "717  imyemerere/article/bishop-mutabaruka-yimitswe-...  \n",
              "722  amakuru/u-rwanda/article/iby-ibiciro-bikomeje-...  \n",
              "723  amakuru/u-rwanda/article/imiterere-y-imishahar...  \n",
              "\n",
              "[500 rows x 2 columns]"
            ],
            "text/html": [
              "\n",
              "  <div id=\"df-90db0500-56c3-4056-8362-e347d1e23ed9\">\n",
              "    <div class=\"colab-df-container\">\n",
              "      <div>\n",
              "<style scoped>\n",
              "    .dataframe tbody tr th:only-of-type {\n",
              "        vertical-align: middle;\n",
              "    }\n",
              "\n",
              "    .dataframe tbody tr th {\n",
              "        vertical-align: top;\n",
              "    }\n",
              "\n",
              "    .dataframe thead th {\n",
              "        text-align: right;\n",
              "    }\n",
              "</style>\n",
              "<table border=\"1\" class=\"dataframe\">\n",
              "  <thead>\n",
              "    <tr style=\"text-align: right;\">\n",
              "      <th></th>\n",
              "      <th>Prefix</th>\n",
              "      <th>Title</th>\n",
              "    </tr>\n",
              "  </thead>\n",
              "  <tbody>\n",
              "    <tr>\n",
              "      <th>0</th>\n",
              "      <td>http://web.archive.org/web/20220901235955/http...</td>\n",
              "      <td>imyidagaduro/article/aurore-kayibanda-yijihije...</td>\n",
              "    </tr>\n",
              "    <tr>\n",
              "      <th>1</th>\n",
              "      <td>http://web.archive.org/web/20220901235955/http...</td>\n",
              "      <td>amakuru/u-rwanda/article/u-rwanda-rwashimiwe-i...</td>\n",
              "    </tr>\n",
              "    <tr>\n",
              "      <th>2</th>\n",
              "      <td>http://web.archive.org/web/20220901235955/http...</td>\n",
              "      <td>imyidagaduro/article/aba-djs-bo-mu-rwanda-n-ab...</td>\n",
              "    </tr>\n",
              "    <tr>\n",
              "      <th>3</th>\n",
              "      <td>http://web.archive.org/web/20220901235955/http...</td>\n",
              "      <td>amakuru/mu-mahanga/article/u-buhinde-bwamurits...</td>\n",
              "    </tr>\n",
              "    <tr>\n",
              "      <th>4</th>\n",
              "      <td>http://web.archive.org/web/20220901235955/http...</td>\n",
              "      <td>amakuru/muri-afurika/article/ingabo-za-eritrea...</td>\n",
              "    </tr>\n",
              "    <tr>\n",
              "      <th>...</th>\n",
              "      <td>...</td>\n",
              "      <td>...</td>\n",
              "    </tr>\n",
              "    <tr>\n",
              "      <th>705</th>\n",
              "      <td>http://web.archive.org/web/20220804191301/http...</td>\n",
              "      <td>amakuru/mu-mahanga/article/pena-nieto-wabaye-p...</td>\n",
              "    </tr>\n",
              "    <tr>\n",
              "      <th>713</th>\n",
              "      <td>http://web.archive.org/web/20220804191301/http...</td>\n",
              "      <td>ubukungu/amabanki/article/nyuma-yo-kugura-bpr-...</td>\n",
              "    </tr>\n",
              "    <tr>\n",
              "      <th>717</th>\n",
              "      <td>http://web.archive.org/web/20220804191301/http...</td>\n",
              "      <td>imyemerere/article/bishop-mutabaruka-yimitswe-...</td>\n",
              "    </tr>\n",
              "    <tr>\n",
              "      <th>722</th>\n",
              "      <td>http://web.archive.org/web/20220804191301/http...</td>\n",
              "      <td>amakuru/u-rwanda/article/iby-ibiciro-bikomeje-...</td>\n",
              "    </tr>\n",
              "    <tr>\n",
              "      <th>723</th>\n",
              "      <td>http://web.archive.org/web/20220804191301/http...</td>\n",
              "      <td>amakuru/u-rwanda/article/imiterere-y-imishahar...</td>\n",
              "    </tr>\n",
              "  </tbody>\n",
              "</table>\n",
              "<p>500 rows × 2 columns</p>\n",
              "</div>\n",
              "      <button class=\"colab-df-convert\" onclick=\"convertToInteractive('df-90db0500-56c3-4056-8362-e347d1e23ed9')\"\n",
              "              title=\"Convert this dataframe to an interactive table.\"\n",
              "              style=\"display:none;\">\n",
              "        \n",
              "  <svg xmlns=\"http://www.w3.org/2000/svg\" height=\"24px\"viewBox=\"0 0 24 24\"\n",
              "       width=\"24px\">\n",
              "    <path d=\"M0 0h24v24H0V0z\" fill=\"none\"/>\n",
              "    <path d=\"M18.56 5.44l.94 2.06.94-2.06 2.06-.94-2.06-.94-.94-2.06-.94 2.06-2.06.94zm-11 1L8.5 8.5l.94-2.06 2.06-.94-2.06-.94L8.5 2.5l-.94 2.06-2.06.94zm10 10l.94 2.06.94-2.06 2.06-.94-2.06-.94-.94-2.06-.94 2.06-2.06.94z\"/><path d=\"M17.41 7.96l-1.37-1.37c-.4-.4-.92-.59-1.43-.59-.52 0-1.04.2-1.43.59L10.3 9.45l-7.72 7.72c-.78.78-.78 2.05 0 2.83L4 21.41c.39.39.9.59 1.41.59.51 0 1.02-.2 1.41-.59l7.78-7.78 2.81-2.81c.8-.78.8-2.07 0-2.86zM5.41 20L4 18.59l7.72-7.72 1.47 1.35L5.41 20z\"/>\n",
              "  </svg>\n",
              "      </button>\n",
              "      \n",
              "  <style>\n",
              "    .colab-df-container {\n",
              "      display:flex;\n",
              "      flex-wrap:wrap;\n",
              "      gap: 12px;\n",
              "    }\n",
              "\n",
              "    .colab-df-convert {\n",
              "      background-color: #E8F0FE;\n",
              "      border: none;\n",
              "      border-radius: 50%;\n",
              "      cursor: pointer;\n",
              "      display: none;\n",
              "      fill: #1967D2;\n",
              "      height: 32px;\n",
              "      padding: 0 0 0 0;\n",
              "      width: 32px;\n",
              "    }\n",
              "\n",
              "    .colab-df-convert:hover {\n",
              "      background-color: #E2EBFA;\n",
              "      box-shadow: 0px 1px 2px rgba(60, 64, 67, 0.3), 0px 1px 3px 1px rgba(60, 64, 67, 0.15);\n",
              "      fill: #174EA6;\n",
              "    }\n",
              "\n",
              "    [theme=dark] .colab-df-convert {\n",
              "      background-color: #3B4455;\n",
              "      fill: #D2E3FC;\n",
              "    }\n",
              "\n",
              "    [theme=dark] .colab-df-convert:hover {\n",
              "      background-color: #434B5C;\n",
              "      box-shadow: 0px 1px 3px 1px rgba(0, 0, 0, 0.15);\n",
              "      filter: drop-shadow(0px 1px 2px rgba(0, 0, 0, 0.3));\n",
              "      fill: #FFFFFF;\n",
              "    }\n",
              "  </style>\n",
              "\n",
              "      <script>\n",
              "        const buttonEl =\n",
              "          document.querySelector('#df-90db0500-56c3-4056-8362-e347d1e23ed9 button.colab-df-convert');\n",
              "        buttonEl.style.display =\n",
              "          google.colab.kernel.accessAllowed ? 'block' : 'none';\n",
              "\n",
              "        async function convertToInteractive(key) {\n",
              "          const element = document.querySelector('#df-90db0500-56c3-4056-8362-e347d1e23ed9');\n",
              "          const dataTable =\n",
              "            await google.colab.kernel.invokeFunction('convertToInteractive',\n",
              "                                                     [key], {});\n",
              "          if (!dataTable) return;\n",
              "\n",
              "          const docLinkHtml = 'Like what you see? Visit the ' +\n",
              "            '<a target=\"_blank\" href=https://colab.research.google.com/notebooks/data_table.ipynb>data table notebook</a>'\n",
              "            + ' to learn more about interactive tables.';\n",
              "          element.innerHTML = '';\n",
              "          dataTable['output_type'] = 'display_data';\n",
              "          await google.colab.output.renderOutput(dataTable, element);\n",
              "          const docLink = document.createElement('div');\n",
              "          docLink.innerHTML = docLinkHtml;\n",
              "          element.appendChild(docLink);\n",
              "        }\n",
              "      </script>\n",
              "    </div>\n",
              "  </div>\n",
              "  "
            ]
          },
          "metadata": {},
          "execution_count": 20
        }
      ],
      "source": [
        "df.drop_duplicates(subset=['Title'])"
      ],
      "id": "8IWxbIV7oVGz"
    },
    {
      "cell_type": "markdown",
      "source": [
        "# Assignment \n",
        "\n",
        "Continuing where arnaund left by looping through the row of the created datafrane and extract link and pass it to the created function to get articles "
      ],
      "metadata": {
        "id": "3waCy6-luMaO"
      },
      "id": "3waCy6-luMaO"
    },
    {
      "cell_type": "code",
      "execution_count": 21,
      "metadata": {
        "id": "Oj_Rvlhqo2fE"
      },
      "outputs": [],
      "source": [
        "def get_article_text(link):\n",
        "  \"\"\"This function will extract the content given the link\n",
        "  \n",
        "  Args\n",
        "  ----\n",
        "  link: str\n",
        "      link to be passed(link+ title)\n",
        "\n",
        "  Returns\n",
        "  -------\n",
        "  cnts: list \n",
        "        list of contents extracted from links \n",
        "  \"\"\"\n",
        "  # get all content from the link page\n",
        "  content = requests.get(link).content\n",
        "  # extract content of the class: full text\n",
        "  raw_content =  BeautifulSoup(content, 'html.parser').find_all('div', class_=\"fulltext margintop10\")\n",
        "\n",
        "  # extract paragraphs \n",
        "  raw_content_ = (BeautifulSoup(str(raw_content)).find_all('p'))\n",
        "  Cnts = []\n",
        "\n",
        "  # loop through the contents and extract text\n",
        "  for i in range(len(raw_content_)-1):\n",
        "    #append text to the created list \n",
        "    Cnts.append((raw_content_[i+1]).text)\n",
        "\n",
        "  return Cnts\n",
        "  \n"
      ],
      "id": "Oj_Rvlhqo2fE"
    },
    {
      "cell_type": "markdown",
      "source": [
        "## call the function to extract content \n",
        "\n",
        "Sample of first 50 rows will be taken"
      ],
      "metadata": {
        "id": "x5h1h3jzuldA"
      },
      "id": "x5h1h3jzuldA"
    },
    {
      "cell_type": "code",
      "execution_count": 25,
      "metadata": {
        "id": "E-1YBOXZ_N40"
      },
      "outputs": [],
      "source": [
        "r = []\n",
        "sample_50 = df.iloc[:50,:]\n",
        "# iterate through created dataset \n",
        "for i in range(len(sample_50)):\n",
        "  # create an empty dictianary\n",
        "  d = {}\n",
        "  # use the function to extract content \n",
        "  u = get_article_text(sample_50['Prefix'][i]+sample_50['Title'][i])\n",
        "\n",
        "  # extract links from the dataset as values and create an index call links to the empty dictionary \n",
        "  d['Links'] = sample_50['Prefix'][i]\n",
        "  d['Titles'] = sample_50['Title'][i]   # extract title from the dataset as values and create an index call title to the empty dictionary \n",
        "\n",
        "  d['Contents'] = u\n",
        "\n",
        "  # append the dictionary to the create list \n",
        "  r.append(d)\n",
        "  "
      ],
      "id": "E-1YBOXZ_N40"
    },
    {
      "cell_type": "code",
      "execution_count": 26,
      "metadata": {
        "id": "k3NR4jCOcoqb"
      },
      "outputs": [],
      "source": [
        "# create a dataframe from a list \n",
        "data = pd.DataFrame(r)"
      ],
      "id": "k3NR4jCOcoqb"
    },
    {
      "cell_type": "code",
      "source": [
        "data.head()"
      ],
      "metadata": {
        "id": "dxY6dTMzNdSz",
        "outputId": "521097f4-89bb-4082-d21f-8bfccafc8c0e",
        "colab": {
          "base_uri": "https://localhost:8080/",
          "height": 206
        }
      },
      "id": "dxY6dTMzNdSz",
      "execution_count": 29,
      "outputs": [
        {
          "output_type": "execute_result",
          "data": {
            "text/plain": [
              "                                               Links  \\\n",
              "0  http://web.archive.org/web/20220901235955/http...   \n",
              "1  http://web.archive.org/web/20220901235955/http...   \n",
              "2  http://web.archive.org/web/20220901235955/http...   \n",
              "3  http://web.archive.org/web/20220901235955/http...   \n",
              "4  http://web.archive.org/web/20220901235955/http...   \n",
              "\n",
              "                                              Titles  \\\n",
              "0  imyidagaduro/article/aurore-kayibanda-yijihije...   \n",
              "1  amakuru/u-rwanda/article/u-rwanda-rwashimiwe-i...   \n",
              "2  imyidagaduro/article/aba-djs-bo-mu-rwanda-n-ab...   \n",
              "3  amakuru/mu-mahanga/article/u-buhinde-bwamurits...   \n",
              "4  amakuru/muri-afurika/article/ingabo-za-eritrea...   \n",
              "\n",
              "                                            Contents  \n",
              "0                                                 []  \n",
              "1  [Lacroix yashimye by’umwihariko uruhare rw’Aba...  \n",
              "2  [Iki gitaramo cyateguwe na Shooters Lounge kiz...  \n",
              "3  [Urwo rukingo rwakozwe n’ikigo gishinzwe ibijy...  \n",
              "4  [Itangazo ryashyizwe hanze n’inyeshyamba zo mu...  "
            ],
            "text/html": [
              "\n",
              "  <div id=\"df-ac0995e5-3fe6-42a4-a47a-f0d8c2b38864\">\n",
              "    <div class=\"colab-df-container\">\n",
              "      <div>\n",
              "<style scoped>\n",
              "    .dataframe tbody tr th:only-of-type {\n",
              "        vertical-align: middle;\n",
              "    }\n",
              "\n",
              "    .dataframe tbody tr th {\n",
              "        vertical-align: top;\n",
              "    }\n",
              "\n",
              "    .dataframe thead th {\n",
              "        text-align: right;\n",
              "    }\n",
              "</style>\n",
              "<table border=\"1\" class=\"dataframe\">\n",
              "  <thead>\n",
              "    <tr style=\"text-align: right;\">\n",
              "      <th></th>\n",
              "      <th>Links</th>\n",
              "      <th>Titles</th>\n",
              "      <th>Contents</th>\n",
              "    </tr>\n",
              "  </thead>\n",
              "  <tbody>\n",
              "    <tr>\n",
              "      <th>0</th>\n",
              "      <td>http://web.archive.org/web/20220901235955/http...</td>\n",
              "      <td>imyidagaduro/article/aurore-kayibanda-yijihije...</td>\n",
              "      <td>[]</td>\n",
              "    </tr>\n",
              "    <tr>\n",
              "      <th>1</th>\n",
              "      <td>http://web.archive.org/web/20220901235955/http...</td>\n",
              "      <td>amakuru/u-rwanda/article/u-rwanda-rwashimiwe-i...</td>\n",
              "      <td>[Lacroix yashimye by’umwihariko uruhare rw’Aba...</td>\n",
              "    </tr>\n",
              "    <tr>\n",
              "      <th>2</th>\n",
              "      <td>http://web.archive.org/web/20220901235955/http...</td>\n",
              "      <td>imyidagaduro/article/aba-djs-bo-mu-rwanda-n-ab...</td>\n",
              "      <td>[Iki gitaramo cyateguwe na Shooters Lounge kiz...</td>\n",
              "    </tr>\n",
              "    <tr>\n",
              "      <th>3</th>\n",
              "      <td>http://web.archive.org/web/20220901235955/http...</td>\n",
              "      <td>amakuru/mu-mahanga/article/u-buhinde-bwamurits...</td>\n",
              "      <td>[Urwo rukingo rwakozwe n’ikigo gishinzwe ibijy...</td>\n",
              "    </tr>\n",
              "    <tr>\n",
              "      <th>4</th>\n",
              "      <td>http://web.archive.org/web/20220901235955/http...</td>\n",
              "      <td>amakuru/muri-afurika/article/ingabo-za-eritrea...</td>\n",
              "      <td>[Itangazo ryashyizwe hanze n’inyeshyamba zo mu...</td>\n",
              "    </tr>\n",
              "  </tbody>\n",
              "</table>\n",
              "</div>\n",
              "      <button class=\"colab-df-convert\" onclick=\"convertToInteractive('df-ac0995e5-3fe6-42a4-a47a-f0d8c2b38864')\"\n",
              "              title=\"Convert this dataframe to an interactive table.\"\n",
              "              style=\"display:none;\">\n",
              "        \n",
              "  <svg xmlns=\"http://www.w3.org/2000/svg\" height=\"24px\"viewBox=\"0 0 24 24\"\n",
              "       width=\"24px\">\n",
              "    <path d=\"M0 0h24v24H0V0z\" fill=\"none\"/>\n",
              "    <path d=\"M18.56 5.44l.94 2.06.94-2.06 2.06-.94-2.06-.94-.94-2.06-.94 2.06-2.06.94zm-11 1L8.5 8.5l.94-2.06 2.06-.94-2.06-.94L8.5 2.5l-.94 2.06-2.06.94zm10 10l.94 2.06.94-2.06 2.06-.94-2.06-.94-.94-2.06-.94 2.06-2.06.94z\"/><path d=\"M17.41 7.96l-1.37-1.37c-.4-.4-.92-.59-1.43-.59-.52 0-1.04.2-1.43.59L10.3 9.45l-7.72 7.72c-.78.78-.78 2.05 0 2.83L4 21.41c.39.39.9.59 1.41.59.51 0 1.02-.2 1.41-.59l7.78-7.78 2.81-2.81c.8-.78.8-2.07 0-2.86zM5.41 20L4 18.59l7.72-7.72 1.47 1.35L5.41 20z\"/>\n",
              "  </svg>\n",
              "      </button>\n",
              "      \n",
              "  <style>\n",
              "    .colab-df-container {\n",
              "      display:flex;\n",
              "      flex-wrap:wrap;\n",
              "      gap: 12px;\n",
              "    }\n",
              "\n",
              "    .colab-df-convert {\n",
              "      background-color: #E8F0FE;\n",
              "      border: none;\n",
              "      border-radius: 50%;\n",
              "      cursor: pointer;\n",
              "      display: none;\n",
              "      fill: #1967D2;\n",
              "      height: 32px;\n",
              "      padding: 0 0 0 0;\n",
              "      width: 32px;\n",
              "    }\n",
              "\n",
              "    .colab-df-convert:hover {\n",
              "      background-color: #E2EBFA;\n",
              "      box-shadow: 0px 1px 2px rgba(60, 64, 67, 0.3), 0px 1px 3px 1px rgba(60, 64, 67, 0.15);\n",
              "      fill: #174EA6;\n",
              "    }\n",
              "\n",
              "    [theme=dark] .colab-df-convert {\n",
              "      background-color: #3B4455;\n",
              "      fill: #D2E3FC;\n",
              "    }\n",
              "\n",
              "    [theme=dark] .colab-df-convert:hover {\n",
              "      background-color: #434B5C;\n",
              "      box-shadow: 0px 1px 3px 1px rgba(0, 0, 0, 0.15);\n",
              "      filter: drop-shadow(0px 1px 2px rgba(0, 0, 0, 0.3));\n",
              "      fill: #FFFFFF;\n",
              "    }\n",
              "  </style>\n",
              "\n",
              "      <script>\n",
              "        const buttonEl =\n",
              "          document.querySelector('#df-ac0995e5-3fe6-42a4-a47a-f0d8c2b38864 button.colab-df-convert');\n",
              "        buttonEl.style.display =\n",
              "          google.colab.kernel.accessAllowed ? 'block' : 'none';\n",
              "\n",
              "        async function convertToInteractive(key) {\n",
              "          const element = document.querySelector('#df-ac0995e5-3fe6-42a4-a47a-f0d8c2b38864');\n",
              "          const dataTable =\n",
              "            await google.colab.kernel.invokeFunction('convertToInteractive',\n",
              "                                                     [key], {});\n",
              "          if (!dataTable) return;\n",
              "\n",
              "          const docLinkHtml = 'Like what you see? Visit the ' +\n",
              "            '<a target=\"_blank\" href=https://colab.research.google.com/notebooks/data_table.ipynb>data table notebook</a>'\n",
              "            + ' to learn more about interactive tables.';\n",
              "          element.innerHTML = '';\n",
              "          dataTable['output_type'] = 'display_data';\n",
              "          await google.colab.output.renderOutput(dataTable, element);\n",
              "          const docLink = document.createElement('div');\n",
              "          docLink.innerHTML = docLinkHtml;\n",
              "          element.appendChild(docLink);\n",
              "        }\n",
              "      </script>\n",
              "    </div>\n",
              "  </div>\n",
              "  "
            ]
          },
          "metadata": {},
          "execution_count": 29
        }
      ]
    },
    {
      "cell_type": "markdown",
      "source": [
        "As it can be seen, our dataset has three columns containing links, tiltles and contents extracted "
      ],
      "metadata": {
        "id": "yJPFistd3z4o"
      },
      "id": "yJPFistd3z4o"
    },
    {
      "cell_type": "code",
      "source": [
        "data['Contents'][1]"
      ],
      "metadata": {
        "colab": {
          "base_uri": "https://localhost:8080/"
        },
        "id": "EuzdRVWr38ZT",
        "outputId": "c15bf4b1-1091-4101-a5ec-e595435d1045"
      },
      "id": "EuzdRVWr38ZT",
      "execution_count": 33,
      "outputs": [
        {
          "output_type": "execute_result",
          "data": {
            "text/plain": [
              "['Lacroix yashimye by’umwihariko uruhare rw’Abanyarwandakazi bari mu butumwa bw’Umuryango w’Abibumbye cyane cyane mu bijyanye no kurwanya ihohoterwa rishingiye ku gitsina.',\n",
              " 'Ibi yabivuze kuri uyu wa Kane, tariki 1 Nzeri, ubwo yakiraga mu biro bye, uhagarariye u Rwanda mu Muryango w’Abibumbye, Ambasaderi Gatete Claver n’umuyobozi Mukuru wungirije wa Polisi y’u Rwanda ushinzwe ibikorwa (DIGP) Felix Namuhoranye.',\n",
              " 'DIGP Namuhoranye ari i New York muri Leta Zunze Ubumwe za Amerika aho yitabiriye inama y’Umuryango w’Abibumbye ihuza abakuru ba Polisi z’ibihugu (UNCOPS).',\n",
              " 'DIGP Namuhoranye yongeye gushimangira ubushake bw’u Rwanda bwo gutanga umusanzu w’abapolisi mu butumwa bwo kubungabunga amahoro.',\n",
              " 'Gushimangira ubufatanye n’ibindi bihugu',\n",
              " 'Umuyobozi Mukuru Wungirije wa Polisi y’u Rwanda yitabiriye inama zitandukanye mu rwego rwo gushimangira umubano n’ibindi bihugu nka Suède na Zimbabwe ku wa Gatatu tariki ya 31 Kanama.',\n",
              " 'Komiseri Hakan Wall, Umuyobozi wa Polisi muri Suède, ishami rishinzwe ibikorwa mpuzamahanga akaba n’umuyobozi ushinzwe ibikorwa byo kugarura amahoro, yashimye ubufatanye hagati ya Suède n’u Rwanda cyane cyane mu bikorwa byo kubungabunga amahoro.',\n",
              " 'U Rwanda na Suède byashyizeho itsinda ryihariye rya Polisi rishinzwe kurwanya ihohoterwa rishingiye ku gitsina (SPT-GBV) rikorera mu butumwa bw’Umuryango w’Abibumbye muri Repubulika ya Centrafrique (MINUSCA).',\n",
              " 'U Rwanda rufite amatsinda atatu agizwe n’abapolisi muri MINUSCA; arimo imitwe ibiri y’Abapolisi ikora ibikorwa byo kurinda umutekano n’ituze rusange ry’abaturage (FPUs) hamwe n’umutwe w’abapolisi ushinzwe kurinda abayobozi by’umwihariko (PSU), ayo matsinda yombi akaba agizwe n’abapolisi 460.',\n",
              " 'Hakan yashimye ubunyamwuga bw’abapolisi b’u Rwanda bari mu butumwa bw’amahoro cyane cyane mu kurwanya ihohoterwa rishingiye ku gitsina agaragaza ko hakenewe guteza imbere ubufatanye.',\n",
              " 'DIGP Namuhoranye, yashimye ubufatanye buriho, asobanura ubushake bw’u Rwanda n’ubushobozi bwo gutanga \"ubumenyi bwihariye\" mu butumwa bwo kubungabunga amahoro kugira ngo birusheho gutanga umusaruro ku mibereho myiza y’abaturage no hanze ya Repubulika ya Centrafrique.',\n",
              " 'Ku rundi ruhande, inama yahuje ibihugu by’u Rwanda na Zimbabwe yari iyobowe na Ambasaderi Gatete Claver na minisitiri w’umutekano mu gihugu n’umurage ndangamuco wa Zimbabwe, Kazembe Kazembe.',\n",
              " 'Yakozwe biturutse ku busabe bwa Zimbabwe hagamijwe kunguka ubumenyi ku mikorere myiza y’icyitegererezo iranga Polisi y’u Rwanda.',\n",
              " 'U Rwanda rwatanze ikiganiro ku mikorere itandukanye ya Polisi, irimo kwimakaza ikoranabuhanga ndetse n’ibikorwa byo kubungabunga amahoro.',\n",
              " 'Inama yasojwe n’impande zombi zemeje uburyo bwo gushyiraho urwego ruzateza imbere ubufatanye mu bikorwa bitandukanye byo gucunga umutekano.',\n",
              " 'Polisi y’u Rwanda na Polisi ya Repubulika ya Zimbabwe zigirana ubufatanye cyane cyane mu bijyanye n’amahugurwa aho abofisiye bakuru baturutse muri Zimbabwe bitabiriye amasomo ahabwa abofisiye bakuru mu Ishuri rikuru rya Polisi y’u Rwanda (NPC) riherereye mu Karere ka Musanze.']"
            ]
          },
          "metadata": {},
          "execution_count": 33
        }
      ]
    },
    {
      "cell_type": "code",
      "source": [
        "data['Links'][1] + data['Titles'][1]"
      ],
      "metadata": {
        "colab": {
          "base_uri": "https://localhost:8080/",
          "height": 35
        },
        "id": "BFx5Zbc13_2t",
        "outputId": "1e4d0981-2140-46ea-c459-99bd160b8972"
      },
      "id": "BFx5Zbc13_2t",
      "execution_count": 34,
      "outputs": [
        {
          "output_type": "execute_result",
          "data": {
            "text/plain": [
              "'http://web.archive.org/web/20220901235955/https://www.igihe.com/amakuru/u-rwanda/article/u-rwanda-rwashimiwe-ibikorwa-byarwo-mu-butumwa-bw-umuryango-w-abibumbye'"
            ],
            "application/vnd.google.colaboratory.intrinsic+json": {
              "type": "string"
            }
          },
          "metadata": {},
          "execution_count": 34
        }
      ]
    },
    {
      "cell_type": "code",
      "source": [
        "data['Links'][0] + data['Titles'][0]"
      ],
      "metadata": {
        "colab": {
          "base_uri": "https://localhost:8080/",
          "height": 35
        },
        "id": "i4e3MZ6A5oZS",
        "outputId": "947a436d-a9de-4d37-87ab-c7a261865787"
      },
      "id": "i4e3MZ6A5oZS",
      "execution_count": 35,
      "outputs": [
        {
          "output_type": "execute_result",
          "data": {
            "text/plain": [
              "'http://web.archive.org/web/20220901235955/https://www.igihe.com/imyidagaduro/article/aurore-kayibanda-yijihije-imyaka-10-ishize-yambwitse-ikamba-rya-miss-rwanda'"
            ],
            "application/vnd.google.colaboratory.intrinsic+json": {
              "type": "string"
            }
          },
          "metadata": {},
          "execution_count": 35
        }
      ]
    }
  ],
  "metadata": {
    "colab": {
      "provenance": [],
      "include_colab_link": true
    },
    "kernelspec": {
      "display_name": "Python 3 (ipykernel)",
      "language": "python",
      "name": "python3"
    },
    "language_info": {
      "codemirror_mode": {
        "name": "ipython",
        "version": 3
      },
      "file_extension": ".py",
      "mimetype": "text/x-python",
      "name": "python",
      "nbconvert_exporter": "python",
      "pygments_lexer": "ipython3",
      "version": "3.9.7"
    }
  },
  "nbformat": 4,
  "nbformat_minor": 5
}